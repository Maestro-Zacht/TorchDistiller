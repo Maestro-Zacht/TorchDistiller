{
 "cells": [
  {
   "cell_type": "code",
   "execution_count": 16,
   "id": "fe44e2f2",
   "metadata": {
    "ExecuteTime": {
     "end_time": "2023-03-07T09:13:23.907608Z",
     "start_time": "2023-03-07T09:13:23.906047Z"
    }
   },
   "outputs": [],
   "source": [
    "import optuna\n",
    "import joblib\n",
    "import numpy as np\n",
    "import pandas as pd"
   ]
  },
  {
   "cell_type": "markdown",
   "id": "b9e00128",
   "metadata": {},
   "source": [
    "# Single Study"
   ]
  },
  {
   "cell_type": "code",
   "execution_count": 17,
   "id": "1b2a70af",
   "metadata": {
    "ExecuteTime": {
     "end_time": "2023-03-07T09:13:24.820770Z",
     "start_time": "2023-03-07T09:13:24.814863Z"
    }
   },
   "outputs": [
    {
     "name": "stdout",
     "output_type": "stream",
     "text": [
      "Best trial until now (34 trials):\n",
      " Value:  0.7197678388156104\n",
      " Params: \n",
      "   lambda_dkd: 1\n",
      "   beta_dkd: 4\n",
      "   temp_dkd: 1\n",
      "   norm_dkd: channel\n"
     ]
    }
   ],
   "source": [
    "study = joblib.load(\"trials/hp_search_dkd.pkl\")\n",
    "print(f\"Best trial until now ({len(study.trials)} trials):\")\n",
    "print(\" Value: \", study.best_trial.value)\n",
    "print(\" Params: \")\n",
    "for key, value in study.best_trial.params.items():\n",
    "    print(f\"   {key}: {value}\")\n",
    "    "
   ]
  },
  {
   "cell_type": "code",
   "execution_count": 18,
   "id": "7d8f2a8e",
   "metadata": {
    "ExecuteTime": {
     "end_time": "2023-03-07T09:13:26.437270Z",
     "start_time": "2023-03-07T09:13:26.431929Z"
    }
   },
   "outputs": [
    {
     "data": {
      "application/vnd.plotly.v1+json": {
       "config": {
        "plotlyServerURL": "https://plot.ly"
       },
       "data": [
        {
         "dimensions": [
          {
           "label": "Objective Value",
           "range": [
            0.6571960449337652,
            0.7197678388156104
           ],
           "values": [
            0.6571960449337652,
            0.6866946685354687,
            0.6758126112407985,
            0.6637560290165136,
            0.6726728879979053,
            0.6863807531561188,
            0.685383635307665,
            0.7197678388156104,
            0.712997271080825,
            0.6937515031266286
           ]
          },
          {
           "label": "beta_dkd",
           "range": [
            0,
            2
           ],
           "ticktext": [
            "1",
            "4",
            "8"
           ],
           "tickvals": [
            0,
            1,
            2
           ],
           "values": [
            0,
            1,
            1,
            1,
            1,
            1,
            1,
            1,
            2,
            2
           ]
          },
          {
           "label": "lambda_dkd",
           "range": [
            0,
            2
           ],
           "ticktext": [
            "0.01",
            "0.1",
            "1"
           ],
           "tickvals": [
            0,
            1,
            2
           ],
           "values": [
            2,
            0,
            0,
            0,
            1,
            1,
            1,
            2,
            1,
            1
           ]
          },
          {
           "label": "norm_dkd",
           "range": [
            0,
            1
           ],
           "ticktext": [
            "space",
            "channel"
           ],
           "tickvals": [
            0,
            1
           ],
           "values": [
            1,
            0,
            1,
            1,
            0,
            0,
            0,
            1,
            1,
            0
           ]
          },
          {
           "label": "temp_dkd",
           "range": [
            0,
            1
           ],
           "ticktext": [
            "1",
            "4"
           ],
           "tickvals": [
            0,
            1
           ],
           "values": [
            1,
            0,
            0,
            1,
            0,
            1,
            1,
            0,
            0,
            1
           ]
          }
         ],
         "labelangle": 30,
         "labelside": "bottom",
         "line": {
          "color": [
           0.6571960449337652,
           0.6866946685354687,
           0.6758126112407985,
           0.6637560290165136,
           0.6726728879979053,
           0.6863807531561188,
           0.685383635307665,
           0.7197678388156104,
           0.712997271080825,
           0.6937515031266286
          ],
          "colorbar": {
           "title": {
            "text": "Objective Value"
           }
          },
          "colorscale": [
           [
            0,
            "rgb(247,251,255)"
           ],
           [
            0.125,
            "rgb(222,235,247)"
           ],
           [
            0.25,
            "rgb(198,219,239)"
           ],
           [
            0.375,
            "rgb(158,202,225)"
           ],
           [
            0.5,
            "rgb(107,174,214)"
           ],
           [
            0.625,
            "rgb(66,146,198)"
           ],
           [
            0.75,
            "rgb(33,113,181)"
           ],
           [
            0.875,
            "rgb(8,81,156)"
           ],
           [
            1,
            "rgb(8,48,107)"
           ]
          ],
          "reversescale": false,
          "showscale": true
         },
         "type": "parcoords"
        }
       ],
       "layout": {
        "template": {
         "data": {
          "bar": [
           {
            "error_x": {
             "color": "#2a3f5f"
            },
            "error_y": {
             "color": "#2a3f5f"
            },
            "marker": {
             "line": {
              "color": "#E5ECF6",
              "width": 0.5
             },
             "pattern": {
              "fillmode": "overlay",
              "size": 10,
              "solidity": 0.2
             }
            },
            "type": "bar"
           }
          ],
          "barpolar": [
           {
            "marker": {
             "line": {
              "color": "#E5ECF6",
              "width": 0.5
             },
             "pattern": {
              "fillmode": "overlay",
              "size": 10,
              "solidity": 0.2
             }
            },
            "type": "barpolar"
           }
          ],
          "carpet": [
           {
            "aaxis": {
             "endlinecolor": "#2a3f5f",
             "gridcolor": "white",
             "linecolor": "white",
             "minorgridcolor": "white",
             "startlinecolor": "#2a3f5f"
            },
            "baxis": {
             "endlinecolor": "#2a3f5f",
             "gridcolor": "white",
             "linecolor": "white",
             "minorgridcolor": "white",
             "startlinecolor": "#2a3f5f"
            },
            "type": "carpet"
           }
          ],
          "choropleth": [
           {
            "colorbar": {
             "outlinewidth": 0,
             "ticks": ""
            },
            "type": "choropleth"
           }
          ],
          "contour": [
           {
            "colorbar": {
             "outlinewidth": 0,
             "ticks": ""
            },
            "colorscale": [
             [
              0,
              "#0d0887"
             ],
             [
              0.1111111111111111,
              "#46039f"
             ],
             [
              0.2222222222222222,
              "#7201a8"
             ],
             [
              0.3333333333333333,
              "#9c179e"
             ],
             [
              0.4444444444444444,
              "#bd3786"
             ],
             [
              0.5555555555555556,
              "#d8576b"
             ],
             [
              0.6666666666666666,
              "#ed7953"
             ],
             [
              0.7777777777777778,
              "#fb9f3a"
             ],
             [
              0.8888888888888888,
              "#fdca26"
             ],
             [
              1,
              "#f0f921"
             ]
            ],
            "type": "contour"
           }
          ],
          "contourcarpet": [
           {
            "colorbar": {
             "outlinewidth": 0,
             "ticks": ""
            },
            "type": "contourcarpet"
           }
          ],
          "heatmap": [
           {
            "colorbar": {
             "outlinewidth": 0,
             "ticks": ""
            },
            "colorscale": [
             [
              0,
              "#0d0887"
             ],
             [
              0.1111111111111111,
              "#46039f"
             ],
             [
              0.2222222222222222,
              "#7201a8"
             ],
             [
              0.3333333333333333,
              "#9c179e"
             ],
             [
              0.4444444444444444,
              "#bd3786"
             ],
             [
              0.5555555555555556,
              "#d8576b"
             ],
             [
              0.6666666666666666,
              "#ed7953"
             ],
             [
              0.7777777777777778,
              "#fb9f3a"
             ],
             [
              0.8888888888888888,
              "#fdca26"
             ],
             [
              1,
              "#f0f921"
             ]
            ],
            "type": "heatmap"
           }
          ],
          "heatmapgl": [
           {
            "colorbar": {
             "outlinewidth": 0,
             "ticks": ""
            },
            "colorscale": [
             [
              0,
              "#0d0887"
             ],
             [
              0.1111111111111111,
              "#46039f"
             ],
             [
              0.2222222222222222,
              "#7201a8"
             ],
             [
              0.3333333333333333,
              "#9c179e"
             ],
             [
              0.4444444444444444,
              "#bd3786"
             ],
             [
              0.5555555555555556,
              "#d8576b"
             ],
             [
              0.6666666666666666,
              "#ed7953"
             ],
             [
              0.7777777777777778,
              "#fb9f3a"
             ],
             [
              0.8888888888888888,
              "#fdca26"
             ],
             [
              1,
              "#f0f921"
             ]
            ],
            "type": "heatmapgl"
           }
          ],
          "histogram": [
           {
            "marker": {
             "pattern": {
              "fillmode": "overlay",
              "size": 10,
              "solidity": 0.2
             }
            },
            "type": "histogram"
           }
          ],
          "histogram2d": [
           {
            "colorbar": {
             "outlinewidth": 0,
             "ticks": ""
            },
            "colorscale": [
             [
              0,
              "#0d0887"
             ],
             [
              0.1111111111111111,
              "#46039f"
             ],
             [
              0.2222222222222222,
              "#7201a8"
             ],
             [
              0.3333333333333333,
              "#9c179e"
             ],
             [
              0.4444444444444444,
              "#bd3786"
             ],
             [
              0.5555555555555556,
              "#d8576b"
             ],
             [
              0.6666666666666666,
              "#ed7953"
             ],
             [
              0.7777777777777778,
              "#fb9f3a"
             ],
             [
              0.8888888888888888,
              "#fdca26"
             ],
             [
              1,
              "#f0f921"
             ]
            ],
            "type": "histogram2d"
           }
          ],
          "histogram2dcontour": [
           {
            "colorbar": {
             "outlinewidth": 0,
             "ticks": ""
            },
            "colorscale": [
             [
              0,
              "#0d0887"
             ],
             [
              0.1111111111111111,
              "#46039f"
             ],
             [
              0.2222222222222222,
              "#7201a8"
             ],
             [
              0.3333333333333333,
              "#9c179e"
             ],
             [
              0.4444444444444444,
              "#bd3786"
             ],
             [
              0.5555555555555556,
              "#d8576b"
             ],
             [
              0.6666666666666666,
              "#ed7953"
             ],
             [
              0.7777777777777778,
              "#fb9f3a"
             ],
             [
              0.8888888888888888,
              "#fdca26"
             ],
             [
              1,
              "#f0f921"
             ]
            ],
            "type": "histogram2dcontour"
           }
          ],
          "mesh3d": [
           {
            "colorbar": {
             "outlinewidth": 0,
             "ticks": ""
            },
            "type": "mesh3d"
           }
          ],
          "parcoords": [
           {
            "line": {
             "colorbar": {
              "outlinewidth": 0,
              "ticks": ""
             }
            },
            "type": "parcoords"
           }
          ],
          "pie": [
           {
            "automargin": true,
            "type": "pie"
           }
          ],
          "scatter": [
           {
            "fillpattern": {
             "fillmode": "overlay",
             "size": 10,
             "solidity": 0.2
            },
            "type": "scatter"
           }
          ],
          "scatter3d": [
           {
            "line": {
             "colorbar": {
              "outlinewidth": 0,
              "ticks": ""
             }
            },
            "marker": {
             "colorbar": {
              "outlinewidth": 0,
              "ticks": ""
             }
            },
            "type": "scatter3d"
           }
          ],
          "scattercarpet": [
           {
            "marker": {
             "colorbar": {
              "outlinewidth": 0,
              "ticks": ""
             }
            },
            "type": "scattercarpet"
           }
          ],
          "scattergeo": [
           {
            "marker": {
             "colorbar": {
              "outlinewidth": 0,
              "ticks": ""
             }
            },
            "type": "scattergeo"
           }
          ],
          "scattergl": [
           {
            "marker": {
             "colorbar": {
              "outlinewidth": 0,
              "ticks": ""
             }
            },
            "type": "scattergl"
           }
          ],
          "scattermapbox": [
           {
            "marker": {
             "colorbar": {
              "outlinewidth": 0,
              "ticks": ""
             }
            },
            "type": "scattermapbox"
           }
          ],
          "scatterpolar": [
           {
            "marker": {
             "colorbar": {
              "outlinewidth": 0,
              "ticks": ""
             }
            },
            "type": "scatterpolar"
           }
          ],
          "scatterpolargl": [
           {
            "marker": {
             "colorbar": {
              "outlinewidth": 0,
              "ticks": ""
             }
            },
            "type": "scatterpolargl"
           }
          ],
          "scatterternary": [
           {
            "marker": {
             "colorbar": {
              "outlinewidth": 0,
              "ticks": ""
             }
            },
            "type": "scatterternary"
           }
          ],
          "surface": [
           {
            "colorbar": {
             "outlinewidth": 0,
             "ticks": ""
            },
            "colorscale": [
             [
              0,
              "#0d0887"
             ],
             [
              0.1111111111111111,
              "#46039f"
             ],
             [
              0.2222222222222222,
              "#7201a8"
             ],
             [
              0.3333333333333333,
              "#9c179e"
             ],
             [
              0.4444444444444444,
              "#bd3786"
             ],
             [
              0.5555555555555556,
              "#d8576b"
             ],
             [
              0.6666666666666666,
              "#ed7953"
             ],
             [
              0.7777777777777778,
              "#fb9f3a"
             ],
             [
              0.8888888888888888,
              "#fdca26"
             ],
             [
              1,
              "#f0f921"
             ]
            ],
            "type": "surface"
           }
          ],
          "table": [
           {
            "cells": {
             "fill": {
              "color": "#EBF0F8"
             },
             "line": {
              "color": "white"
             }
            },
            "header": {
             "fill": {
              "color": "#C8D4E3"
             },
             "line": {
              "color": "white"
             }
            },
            "type": "table"
           }
          ]
         },
         "layout": {
          "annotationdefaults": {
           "arrowcolor": "#2a3f5f",
           "arrowhead": 0,
           "arrowwidth": 1
          },
          "autotypenumbers": "strict",
          "coloraxis": {
           "colorbar": {
            "outlinewidth": 0,
            "ticks": ""
           }
          },
          "colorscale": {
           "diverging": [
            [
             0,
             "#8e0152"
            ],
            [
             0.1,
             "#c51b7d"
            ],
            [
             0.2,
             "#de77ae"
            ],
            [
             0.3,
             "#f1b6da"
            ],
            [
             0.4,
             "#fde0ef"
            ],
            [
             0.5,
             "#f7f7f7"
            ],
            [
             0.6,
             "#e6f5d0"
            ],
            [
             0.7,
             "#b8e186"
            ],
            [
             0.8,
             "#7fbc41"
            ],
            [
             0.9,
             "#4d9221"
            ],
            [
             1,
             "#276419"
            ]
           ],
           "sequential": [
            [
             0,
             "#0d0887"
            ],
            [
             0.1111111111111111,
             "#46039f"
            ],
            [
             0.2222222222222222,
             "#7201a8"
            ],
            [
             0.3333333333333333,
             "#9c179e"
            ],
            [
             0.4444444444444444,
             "#bd3786"
            ],
            [
             0.5555555555555556,
             "#d8576b"
            ],
            [
             0.6666666666666666,
             "#ed7953"
            ],
            [
             0.7777777777777778,
             "#fb9f3a"
            ],
            [
             0.8888888888888888,
             "#fdca26"
            ],
            [
             1,
             "#f0f921"
            ]
           ],
           "sequentialminus": [
            [
             0,
             "#0d0887"
            ],
            [
             0.1111111111111111,
             "#46039f"
            ],
            [
             0.2222222222222222,
             "#7201a8"
            ],
            [
             0.3333333333333333,
             "#9c179e"
            ],
            [
             0.4444444444444444,
             "#bd3786"
            ],
            [
             0.5555555555555556,
             "#d8576b"
            ],
            [
             0.6666666666666666,
             "#ed7953"
            ],
            [
             0.7777777777777778,
             "#fb9f3a"
            ],
            [
             0.8888888888888888,
             "#fdca26"
            ],
            [
             1,
             "#f0f921"
            ]
           ]
          },
          "colorway": [
           "#636efa",
           "#EF553B",
           "#00cc96",
           "#ab63fa",
           "#FFA15A",
           "#19d3f3",
           "#FF6692",
           "#B6E880",
           "#FF97FF",
           "#FECB52"
          ],
          "font": {
           "color": "#2a3f5f"
          },
          "geo": {
           "bgcolor": "white",
           "lakecolor": "white",
           "landcolor": "#E5ECF6",
           "showlakes": true,
           "showland": true,
           "subunitcolor": "white"
          },
          "hoverlabel": {
           "align": "left"
          },
          "hovermode": "closest",
          "mapbox": {
           "style": "light"
          },
          "paper_bgcolor": "white",
          "plot_bgcolor": "#E5ECF6",
          "polar": {
           "angularaxis": {
            "gridcolor": "white",
            "linecolor": "white",
            "ticks": ""
           },
           "bgcolor": "#E5ECF6",
           "radialaxis": {
            "gridcolor": "white",
            "linecolor": "white",
            "ticks": ""
           }
          },
          "scene": {
           "xaxis": {
            "backgroundcolor": "#E5ECF6",
            "gridcolor": "white",
            "gridwidth": 2,
            "linecolor": "white",
            "showbackground": true,
            "ticks": "",
            "zerolinecolor": "white"
           },
           "yaxis": {
            "backgroundcolor": "#E5ECF6",
            "gridcolor": "white",
            "gridwidth": 2,
            "linecolor": "white",
            "showbackground": true,
            "ticks": "",
            "zerolinecolor": "white"
           },
           "zaxis": {
            "backgroundcolor": "#E5ECF6",
            "gridcolor": "white",
            "gridwidth": 2,
            "linecolor": "white",
            "showbackground": true,
            "ticks": "",
            "zerolinecolor": "white"
           }
          },
          "shapedefaults": {
           "line": {
            "color": "#2a3f5f"
           }
          },
          "ternary": {
           "aaxis": {
            "gridcolor": "white",
            "linecolor": "white",
            "ticks": ""
           },
           "baxis": {
            "gridcolor": "white",
            "linecolor": "white",
            "ticks": ""
           },
           "bgcolor": "#E5ECF6",
           "caxis": {
            "gridcolor": "white",
            "linecolor": "white",
            "ticks": ""
           }
          },
          "title": {
           "x": 0.05
          },
          "xaxis": {
           "automargin": true,
           "gridcolor": "white",
           "linecolor": "white",
           "ticks": "",
           "title": {
            "standoff": 15
           },
           "zerolinecolor": "white",
           "zerolinewidth": 2
          },
          "yaxis": {
           "automargin": true,
           "gridcolor": "white",
           "linecolor": "white",
           "ticks": "",
           "title": {
            "standoff": 15
           },
           "zerolinecolor": "white",
           "zerolinewidth": 2
          }
         }
        },
        "title": {
         "text": "Parallel Coordinate Plot"
        }
       }
      },
      "text/html": [
       "<div>                            <div id=\"218de80b-c197-4e5c-adfc-23217d2ddf88\" class=\"plotly-graph-div\" style=\"height:525px; width:100%;\"></div>            <script type=\"text/javascript\">                require([\"plotly\"], function(Plotly) {                    window.PLOTLYENV=window.PLOTLYENV || {};                                    if (document.getElementById(\"218de80b-c197-4e5c-adfc-23217d2ddf88\")) {                    Plotly.newPlot(                        \"218de80b-c197-4e5c-adfc-23217d2ddf88\",                        [{\"dimensions\":[{\"label\":\"Objective Value\",\"range\":[0.6571960449337652,0.7197678388156104],\"values\":[0.6571960449337652,0.6866946685354687,0.6758126112407985,0.6637560290165136,0.6726728879979053,0.6863807531561188,0.685383635307665,0.7197678388156104,0.712997271080825,0.6937515031266286]},{\"label\":\"beta_dkd\",\"range\":[0,2],\"ticktext\":[\"1\",\"4\",\"8\"],\"tickvals\":[0,1,2],\"values\":[0,1,1,1,1,1,1,1,2,2]},{\"label\":\"lambda_dkd\",\"range\":[0,2],\"ticktext\":[\"0.01\",\"0.1\",\"1\"],\"tickvals\":[0,1,2],\"values\":[2,0,0,0,1,1,1,2,1,1]},{\"label\":\"norm_dkd\",\"range\":[0,1],\"ticktext\":[\"space\",\"channel\"],\"tickvals\":[0,1],\"values\":[1,0,1,1,0,0,0,1,1,0]},{\"label\":\"temp_dkd\",\"range\":[0,1],\"ticktext\":[\"1\",\"4\"],\"tickvals\":[0,1],\"values\":[1,0,0,1,0,1,1,0,0,1]}],\"labelangle\":30,\"labelside\":\"bottom\",\"line\":{\"color\":[0.6571960449337652,0.6866946685354687,0.6758126112407985,0.6637560290165136,0.6726728879979053,0.6863807531561188,0.685383635307665,0.7197678388156104,0.712997271080825,0.6937515031266286],\"colorbar\":{\"title\":{\"text\":\"Objective Value\"}},\"colorscale\":[[0.0,\"rgb(247,251,255)\"],[0.125,\"rgb(222,235,247)\"],[0.25,\"rgb(198,219,239)\"],[0.375,\"rgb(158,202,225)\"],[0.5,\"rgb(107,174,214)\"],[0.625,\"rgb(66,146,198)\"],[0.75,\"rgb(33,113,181)\"],[0.875,\"rgb(8,81,156)\"],[1.0,\"rgb(8,48,107)\"]],\"reversescale\":false,\"showscale\":true},\"type\":\"parcoords\"}],                        {\"title\":{\"text\":\"Parallel Coordinate Plot\"},\"template\":{\"data\":{\"histogram2dcontour\":[{\"type\":\"histogram2dcontour\",\"colorbar\":{\"outlinewidth\":0,\"ticks\":\"\"},\"colorscale\":[[0.0,\"#0d0887\"],[0.1111111111111111,\"#46039f\"],[0.2222222222222222,\"#7201a8\"],[0.3333333333333333,\"#9c179e\"],[0.4444444444444444,\"#bd3786\"],[0.5555555555555556,\"#d8576b\"],[0.6666666666666666,\"#ed7953\"],[0.7777777777777778,\"#fb9f3a\"],[0.8888888888888888,\"#fdca26\"],[1.0,\"#f0f921\"]]}],\"choropleth\":[{\"type\":\"choropleth\",\"colorbar\":{\"outlinewidth\":0,\"ticks\":\"\"}}],\"histogram2d\":[{\"type\":\"histogram2d\",\"colorbar\":{\"outlinewidth\":0,\"ticks\":\"\"},\"colorscale\":[[0.0,\"#0d0887\"],[0.1111111111111111,\"#46039f\"],[0.2222222222222222,\"#7201a8\"],[0.3333333333333333,\"#9c179e\"],[0.4444444444444444,\"#bd3786\"],[0.5555555555555556,\"#d8576b\"],[0.6666666666666666,\"#ed7953\"],[0.7777777777777778,\"#fb9f3a\"],[0.8888888888888888,\"#fdca26\"],[1.0,\"#f0f921\"]]}],\"heatmap\":[{\"type\":\"heatmap\",\"colorbar\":{\"outlinewidth\":0,\"ticks\":\"\"},\"colorscale\":[[0.0,\"#0d0887\"],[0.1111111111111111,\"#46039f\"],[0.2222222222222222,\"#7201a8\"],[0.3333333333333333,\"#9c179e\"],[0.4444444444444444,\"#bd3786\"],[0.5555555555555556,\"#d8576b\"],[0.6666666666666666,\"#ed7953\"],[0.7777777777777778,\"#fb9f3a\"],[0.8888888888888888,\"#fdca26\"],[1.0,\"#f0f921\"]]}],\"heatmapgl\":[{\"type\":\"heatmapgl\",\"colorbar\":{\"outlinewidth\":0,\"ticks\":\"\"},\"colorscale\":[[0.0,\"#0d0887\"],[0.1111111111111111,\"#46039f\"],[0.2222222222222222,\"#7201a8\"],[0.3333333333333333,\"#9c179e\"],[0.4444444444444444,\"#bd3786\"],[0.5555555555555556,\"#d8576b\"],[0.6666666666666666,\"#ed7953\"],[0.7777777777777778,\"#fb9f3a\"],[0.8888888888888888,\"#fdca26\"],[1.0,\"#f0f921\"]]}],\"contourcarpet\":[{\"type\":\"contourcarpet\",\"colorbar\":{\"outlinewidth\":0,\"ticks\":\"\"}}],\"contour\":[{\"type\":\"contour\",\"colorbar\":{\"outlinewidth\":0,\"ticks\":\"\"},\"colorscale\":[[0.0,\"#0d0887\"],[0.1111111111111111,\"#46039f\"],[0.2222222222222222,\"#7201a8\"],[0.3333333333333333,\"#9c179e\"],[0.4444444444444444,\"#bd3786\"],[0.5555555555555556,\"#d8576b\"],[0.6666666666666666,\"#ed7953\"],[0.7777777777777778,\"#fb9f3a\"],[0.8888888888888888,\"#fdca26\"],[1.0,\"#f0f921\"]]}],\"surface\":[{\"type\":\"surface\",\"colorbar\":{\"outlinewidth\":0,\"ticks\":\"\"},\"colorscale\":[[0.0,\"#0d0887\"],[0.1111111111111111,\"#46039f\"],[0.2222222222222222,\"#7201a8\"],[0.3333333333333333,\"#9c179e\"],[0.4444444444444444,\"#bd3786\"],[0.5555555555555556,\"#d8576b\"],[0.6666666666666666,\"#ed7953\"],[0.7777777777777778,\"#fb9f3a\"],[0.8888888888888888,\"#fdca26\"],[1.0,\"#f0f921\"]]}],\"mesh3d\":[{\"type\":\"mesh3d\",\"colorbar\":{\"outlinewidth\":0,\"ticks\":\"\"}}],\"scatter\":[{\"fillpattern\":{\"fillmode\":\"overlay\",\"size\":10,\"solidity\":0.2},\"type\":\"scatter\"}],\"parcoords\":[{\"type\":\"parcoords\",\"line\":{\"colorbar\":{\"outlinewidth\":0,\"ticks\":\"\"}}}],\"scatterpolargl\":[{\"type\":\"scatterpolargl\",\"marker\":{\"colorbar\":{\"outlinewidth\":0,\"ticks\":\"\"}}}],\"bar\":[{\"error_x\":{\"color\":\"#2a3f5f\"},\"error_y\":{\"color\":\"#2a3f5f\"},\"marker\":{\"line\":{\"color\":\"#E5ECF6\",\"width\":0.5},\"pattern\":{\"fillmode\":\"overlay\",\"size\":10,\"solidity\":0.2}},\"type\":\"bar\"}],\"scattergeo\":[{\"type\":\"scattergeo\",\"marker\":{\"colorbar\":{\"outlinewidth\":0,\"ticks\":\"\"}}}],\"scatterpolar\":[{\"type\":\"scatterpolar\",\"marker\":{\"colorbar\":{\"outlinewidth\":0,\"ticks\":\"\"}}}],\"histogram\":[{\"marker\":{\"pattern\":{\"fillmode\":\"overlay\",\"size\":10,\"solidity\":0.2}},\"type\":\"histogram\"}],\"scattergl\":[{\"type\":\"scattergl\",\"marker\":{\"colorbar\":{\"outlinewidth\":0,\"ticks\":\"\"}}}],\"scatter3d\":[{\"type\":\"scatter3d\",\"line\":{\"colorbar\":{\"outlinewidth\":0,\"ticks\":\"\"}},\"marker\":{\"colorbar\":{\"outlinewidth\":0,\"ticks\":\"\"}}}],\"scattermapbox\":[{\"type\":\"scattermapbox\",\"marker\":{\"colorbar\":{\"outlinewidth\":0,\"ticks\":\"\"}}}],\"scatterternary\":[{\"type\":\"scatterternary\",\"marker\":{\"colorbar\":{\"outlinewidth\":0,\"ticks\":\"\"}}}],\"scattercarpet\":[{\"type\":\"scattercarpet\",\"marker\":{\"colorbar\":{\"outlinewidth\":0,\"ticks\":\"\"}}}],\"carpet\":[{\"aaxis\":{\"endlinecolor\":\"#2a3f5f\",\"gridcolor\":\"white\",\"linecolor\":\"white\",\"minorgridcolor\":\"white\",\"startlinecolor\":\"#2a3f5f\"},\"baxis\":{\"endlinecolor\":\"#2a3f5f\",\"gridcolor\":\"white\",\"linecolor\":\"white\",\"minorgridcolor\":\"white\",\"startlinecolor\":\"#2a3f5f\"},\"type\":\"carpet\"}],\"table\":[{\"cells\":{\"fill\":{\"color\":\"#EBF0F8\"},\"line\":{\"color\":\"white\"}},\"header\":{\"fill\":{\"color\":\"#C8D4E3\"},\"line\":{\"color\":\"white\"}},\"type\":\"table\"}],\"barpolar\":[{\"marker\":{\"line\":{\"color\":\"#E5ECF6\",\"width\":0.5},\"pattern\":{\"fillmode\":\"overlay\",\"size\":10,\"solidity\":0.2}},\"type\":\"barpolar\"}],\"pie\":[{\"automargin\":true,\"type\":\"pie\"}]},\"layout\":{\"autotypenumbers\":\"strict\",\"colorway\":[\"#636efa\",\"#EF553B\",\"#00cc96\",\"#ab63fa\",\"#FFA15A\",\"#19d3f3\",\"#FF6692\",\"#B6E880\",\"#FF97FF\",\"#FECB52\"],\"font\":{\"color\":\"#2a3f5f\"},\"hovermode\":\"closest\",\"hoverlabel\":{\"align\":\"left\"},\"paper_bgcolor\":\"white\",\"plot_bgcolor\":\"#E5ECF6\",\"polar\":{\"bgcolor\":\"#E5ECF6\",\"angularaxis\":{\"gridcolor\":\"white\",\"linecolor\":\"white\",\"ticks\":\"\"},\"radialaxis\":{\"gridcolor\":\"white\",\"linecolor\":\"white\",\"ticks\":\"\"}},\"ternary\":{\"bgcolor\":\"#E5ECF6\",\"aaxis\":{\"gridcolor\":\"white\",\"linecolor\":\"white\",\"ticks\":\"\"},\"baxis\":{\"gridcolor\":\"white\",\"linecolor\":\"white\",\"ticks\":\"\"},\"caxis\":{\"gridcolor\":\"white\",\"linecolor\":\"white\",\"ticks\":\"\"}},\"coloraxis\":{\"colorbar\":{\"outlinewidth\":0,\"ticks\":\"\"}},\"colorscale\":{\"sequential\":[[0.0,\"#0d0887\"],[0.1111111111111111,\"#46039f\"],[0.2222222222222222,\"#7201a8\"],[0.3333333333333333,\"#9c179e\"],[0.4444444444444444,\"#bd3786\"],[0.5555555555555556,\"#d8576b\"],[0.6666666666666666,\"#ed7953\"],[0.7777777777777778,\"#fb9f3a\"],[0.8888888888888888,\"#fdca26\"],[1.0,\"#f0f921\"]],\"sequentialminus\":[[0.0,\"#0d0887\"],[0.1111111111111111,\"#46039f\"],[0.2222222222222222,\"#7201a8\"],[0.3333333333333333,\"#9c179e\"],[0.4444444444444444,\"#bd3786\"],[0.5555555555555556,\"#d8576b\"],[0.6666666666666666,\"#ed7953\"],[0.7777777777777778,\"#fb9f3a\"],[0.8888888888888888,\"#fdca26\"],[1.0,\"#f0f921\"]],\"diverging\":[[0,\"#8e0152\"],[0.1,\"#c51b7d\"],[0.2,\"#de77ae\"],[0.3,\"#f1b6da\"],[0.4,\"#fde0ef\"],[0.5,\"#f7f7f7\"],[0.6,\"#e6f5d0\"],[0.7,\"#b8e186\"],[0.8,\"#7fbc41\"],[0.9,\"#4d9221\"],[1,\"#276419\"]]},\"xaxis\":{\"gridcolor\":\"white\",\"linecolor\":\"white\",\"ticks\":\"\",\"title\":{\"standoff\":15},\"zerolinecolor\":\"white\",\"automargin\":true,\"zerolinewidth\":2},\"yaxis\":{\"gridcolor\":\"white\",\"linecolor\":\"white\",\"ticks\":\"\",\"title\":{\"standoff\":15},\"zerolinecolor\":\"white\",\"automargin\":true,\"zerolinewidth\":2},\"scene\":{\"xaxis\":{\"backgroundcolor\":\"#E5ECF6\",\"gridcolor\":\"white\",\"linecolor\":\"white\",\"showbackground\":true,\"ticks\":\"\",\"zerolinecolor\":\"white\",\"gridwidth\":2},\"yaxis\":{\"backgroundcolor\":\"#E5ECF6\",\"gridcolor\":\"white\",\"linecolor\":\"white\",\"showbackground\":true,\"ticks\":\"\",\"zerolinecolor\":\"white\",\"gridwidth\":2},\"zaxis\":{\"backgroundcolor\":\"#E5ECF6\",\"gridcolor\":\"white\",\"linecolor\":\"white\",\"showbackground\":true,\"ticks\":\"\",\"zerolinecolor\":\"white\",\"gridwidth\":2}},\"shapedefaults\":{\"line\":{\"color\":\"#2a3f5f\"}},\"annotationdefaults\":{\"arrowcolor\":\"#2a3f5f\",\"arrowhead\":0,\"arrowwidth\":1},\"geo\":{\"bgcolor\":\"white\",\"landcolor\":\"#E5ECF6\",\"subunitcolor\":\"white\",\"showland\":true,\"showlakes\":true,\"lakecolor\":\"white\"},\"title\":{\"x\":0.05},\"mapbox\":{\"style\":\"light\"}}}},                        {\"responsive\": true}                    ).then(function(){\n",
       "                            \n",
       "var gd = document.getElementById('218de80b-c197-4e5c-adfc-23217d2ddf88');\n",
       "var x = new MutationObserver(function (mutations, observer) {{\n",
       "        var display = window.getComputedStyle(gd).display;\n",
       "        if (!display || display === 'none') {{\n",
       "            console.log([gd, 'removed!']);\n",
       "            Plotly.purge(gd);\n",
       "            observer.disconnect();\n",
       "        }}\n",
       "}});\n",
       "\n",
       "// Listen for the removal of the full notebook cells\n",
       "var notebookContainer = gd.closest('#notebook-container');\n",
       "if (notebookContainer) {{\n",
       "    x.observe(notebookContainer, {childList: true});\n",
       "}}\n",
       "\n",
       "// Listen for the clearing of the current output cell\n",
       "var outputEl = gd.closest('.output');\n",
       "if (outputEl) {{\n",
       "    x.observe(outputEl, {childList: true});\n",
       "}}\n",
       "\n",
       "                        })                };                });            </script>        </div>"
      ]
     },
     "metadata": {},
     "output_type": "display_data"
    }
   ],
   "source": [
    "fig = optuna.visualization.plot_parallel_coordinate(study)\n",
    "fig.show()"
   ]
  },
  {
   "cell_type": "code",
   "execution_count": 19,
   "id": "e593bc9b",
   "metadata": {
    "ExecuteTime": {
     "end_time": "2023-03-07T09:13:37.735983Z",
     "start_time": "2023-03-07T09:13:37.649604Z"
    }
   },
   "outputs": [
    {
     "data": {
      "application/vnd.plotly.v1+json": {
       "config": {
        "plotlyServerURL": "https://plot.ly"
       },
       "data": [
        {
         "cliponaxis": false,
         "hovertemplate": [
          "norm_dkd (CategoricalDistribution): 0.10043417948715305<extra></extra>",
          "temp_dkd (CategoricalDistribution): 0.11975786094580654<extra></extra>",
          "lambda_dkd (CategoricalDistribution): 0.24894964423081176<extra></extra>",
          "beta_dkd (CategoricalDistribution): 0.5308583153362286<extra></extra>"
         ],
         "marker": {
          "color": "rgb(66,146,198)"
         },
         "orientation": "h",
         "text": [
          "0.10",
          "0.12",
          "0.25",
          "0.53"
         ],
         "textposition": "outside",
         "type": "bar",
         "x": [
          0.10043417948715305,
          0.11975786094580654,
          0.24894964423081176,
          0.5308583153362286
         ],
         "y": [
          "norm_dkd",
          "temp_dkd",
          "lambda_dkd",
          "beta_dkd"
         ]
        }
       ],
       "layout": {
        "showlegend": false,
        "template": {
         "data": {
          "bar": [
           {
            "error_x": {
             "color": "#2a3f5f"
            },
            "error_y": {
             "color": "#2a3f5f"
            },
            "marker": {
             "line": {
              "color": "#E5ECF6",
              "width": 0.5
             },
             "pattern": {
              "fillmode": "overlay",
              "size": 10,
              "solidity": 0.2
             }
            },
            "type": "bar"
           }
          ],
          "barpolar": [
           {
            "marker": {
             "line": {
              "color": "#E5ECF6",
              "width": 0.5
             },
             "pattern": {
              "fillmode": "overlay",
              "size": 10,
              "solidity": 0.2
             }
            },
            "type": "barpolar"
           }
          ],
          "carpet": [
           {
            "aaxis": {
             "endlinecolor": "#2a3f5f",
             "gridcolor": "white",
             "linecolor": "white",
             "minorgridcolor": "white",
             "startlinecolor": "#2a3f5f"
            },
            "baxis": {
             "endlinecolor": "#2a3f5f",
             "gridcolor": "white",
             "linecolor": "white",
             "minorgridcolor": "white",
             "startlinecolor": "#2a3f5f"
            },
            "type": "carpet"
           }
          ],
          "choropleth": [
           {
            "colorbar": {
             "outlinewidth": 0,
             "ticks": ""
            },
            "type": "choropleth"
           }
          ],
          "contour": [
           {
            "colorbar": {
             "outlinewidth": 0,
             "ticks": ""
            },
            "colorscale": [
             [
              0,
              "#0d0887"
             ],
             [
              0.1111111111111111,
              "#46039f"
             ],
             [
              0.2222222222222222,
              "#7201a8"
             ],
             [
              0.3333333333333333,
              "#9c179e"
             ],
             [
              0.4444444444444444,
              "#bd3786"
             ],
             [
              0.5555555555555556,
              "#d8576b"
             ],
             [
              0.6666666666666666,
              "#ed7953"
             ],
             [
              0.7777777777777778,
              "#fb9f3a"
             ],
             [
              0.8888888888888888,
              "#fdca26"
             ],
             [
              1,
              "#f0f921"
             ]
            ],
            "type": "contour"
           }
          ],
          "contourcarpet": [
           {
            "colorbar": {
             "outlinewidth": 0,
             "ticks": ""
            },
            "type": "contourcarpet"
           }
          ],
          "heatmap": [
           {
            "colorbar": {
             "outlinewidth": 0,
             "ticks": ""
            },
            "colorscale": [
             [
              0,
              "#0d0887"
             ],
             [
              0.1111111111111111,
              "#46039f"
             ],
             [
              0.2222222222222222,
              "#7201a8"
             ],
             [
              0.3333333333333333,
              "#9c179e"
             ],
             [
              0.4444444444444444,
              "#bd3786"
             ],
             [
              0.5555555555555556,
              "#d8576b"
             ],
             [
              0.6666666666666666,
              "#ed7953"
             ],
             [
              0.7777777777777778,
              "#fb9f3a"
             ],
             [
              0.8888888888888888,
              "#fdca26"
             ],
             [
              1,
              "#f0f921"
             ]
            ],
            "type": "heatmap"
           }
          ],
          "heatmapgl": [
           {
            "colorbar": {
             "outlinewidth": 0,
             "ticks": ""
            },
            "colorscale": [
             [
              0,
              "#0d0887"
             ],
             [
              0.1111111111111111,
              "#46039f"
             ],
             [
              0.2222222222222222,
              "#7201a8"
             ],
             [
              0.3333333333333333,
              "#9c179e"
             ],
             [
              0.4444444444444444,
              "#bd3786"
             ],
             [
              0.5555555555555556,
              "#d8576b"
             ],
             [
              0.6666666666666666,
              "#ed7953"
             ],
             [
              0.7777777777777778,
              "#fb9f3a"
             ],
             [
              0.8888888888888888,
              "#fdca26"
             ],
             [
              1,
              "#f0f921"
             ]
            ],
            "type": "heatmapgl"
           }
          ],
          "histogram": [
           {
            "marker": {
             "pattern": {
              "fillmode": "overlay",
              "size": 10,
              "solidity": 0.2
             }
            },
            "type": "histogram"
           }
          ],
          "histogram2d": [
           {
            "colorbar": {
             "outlinewidth": 0,
             "ticks": ""
            },
            "colorscale": [
             [
              0,
              "#0d0887"
             ],
             [
              0.1111111111111111,
              "#46039f"
             ],
             [
              0.2222222222222222,
              "#7201a8"
             ],
             [
              0.3333333333333333,
              "#9c179e"
             ],
             [
              0.4444444444444444,
              "#bd3786"
             ],
             [
              0.5555555555555556,
              "#d8576b"
             ],
             [
              0.6666666666666666,
              "#ed7953"
             ],
             [
              0.7777777777777778,
              "#fb9f3a"
             ],
             [
              0.8888888888888888,
              "#fdca26"
             ],
             [
              1,
              "#f0f921"
             ]
            ],
            "type": "histogram2d"
           }
          ],
          "histogram2dcontour": [
           {
            "colorbar": {
             "outlinewidth": 0,
             "ticks": ""
            },
            "colorscale": [
             [
              0,
              "#0d0887"
             ],
             [
              0.1111111111111111,
              "#46039f"
             ],
             [
              0.2222222222222222,
              "#7201a8"
             ],
             [
              0.3333333333333333,
              "#9c179e"
             ],
             [
              0.4444444444444444,
              "#bd3786"
             ],
             [
              0.5555555555555556,
              "#d8576b"
             ],
             [
              0.6666666666666666,
              "#ed7953"
             ],
             [
              0.7777777777777778,
              "#fb9f3a"
             ],
             [
              0.8888888888888888,
              "#fdca26"
             ],
             [
              1,
              "#f0f921"
             ]
            ],
            "type": "histogram2dcontour"
           }
          ],
          "mesh3d": [
           {
            "colorbar": {
             "outlinewidth": 0,
             "ticks": ""
            },
            "type": "mesh3d"
           }
          ],
          "parcoords": [
           {
            "line": {
             "colorbar": {
              "outlinewidth": 0,
              "ticks": ""
             }
            },
            "type": "parcoords"
           }
          ],
          "pie": [
           {
            "automargin": true,
            "type": "pie"
           }
          ],
          "scatter": [
           {
            "fillpattern": {
             "fillmode": "overlay",
             "size": 10,
             "solidity": 0.2
            },
            "type": "scatter"
           }
          ],
          "scatter3d": [
           {
            "line": {
             "colorbar": {
              "outlinewidth": 0,
              "ticks": ""
             }
            },
            "marker": {
             "colorbar": {
              "outlinewidth": 0,
              "ticks": ""
             }
            },
            "type": "scatter3d"
           }
          ],
          "scattercarpet": [
           {
            "marker": {
             "colorbar": {
              "outlinewidth": 0,
              "ticks": ""
             }
            },
            "type": "scattercarpet"
           }
          ],
          "scattergeo": [
           {
            "marker": {
             "colorbar": {
              "outlinewidth": 0,
              "ticks": ""
             }
            },
            "type": "scattergeo"
           }
          ],
          "scattergl": [
           {
            "marker": {
             "colorbar": {
              "outlinewidth": 0,
              "ticks": ""
             }
            },
            "type": "scattergl"
           }
          ],
          "scattermapbox": [
           {
            "marker": {
             "colorbar": {
              "outlinewidth": 0,
              "ticks": ""
             }
            },
            "type": "scattermapbox"
           }
          ],
          "scatterpolar": [
           {
            "marker": {
             "colorbar": {
              "outlinewidth": 0,
              "ticks": ""
             }
            },
            "type": "scatterpolar"
           }
          ],
          "scatterpolargl": [
           {
            "marker": {
             "colorbar": {
              "outlinewidth": 0,
              "ticks": ""
             }
            },
            "type": "scatterpolargl"
           }
          ],
          "scatterternary": [
           {
            "marker": {
             "colorbar": {
              "outlinewidth": 0,
              "ticks": ""
             }
            },
            "type": "scatterternary"
           }
          ],
          "surface": [
           {
            "colorbar": {
             "outlinewidth": 0,
             "ticks": ""
            },
            "colorscale": [
             [
              0,
              "#0d0887"
             ],
             [
              0.1111111111111111,
              "#46039f"
             ],
             [
              0.2222222222222222,
              "#7201a8"
             ],
             [
              0.3333333333333333,
              "#9c179e"
             ],
             [
              0.4444444444444444,
              "#bd3786"
             ],
             [
              0.5555555555555556,
              "#d8576b"
             ],
             [
              0.6666666666666666,
              "#ed7953"
             ],
             [
              0.7777777777777778,
              "#fb9f3a"
             ],
             [
              0.8888888888888888,
              "#fdca26"
             ],
             [
              1,
              "#f0f921"
             ]
            ],
            "type": "surface"
           }
          ],
          "table": [
           {
            "cells": {
             "fill": {
              "color": "#EBF0F8"
             },
             "line": {
              "color": "white"
             }
            },
            "header": {
             "fill": {
              "color": "#C8D4E3"
             },
             "line": {
              "color": "white"
             }
            },
            "type": "table"
           }
          ]
         },
         "layout": {
          "annotationdefaults": {
           "arrowcolor": "#2a3f5f",
           "arrowhead": 0,
           "arrowwidth": 1
          },
          "autotypenumbers": "strict",
          "coloraxis": {
           "colorbar": {
            "outlinewidth": 0,
            "ticks": ""
           }
          },
          "colorscale": {
           "diverging": [
            [
             0,
             "#8e0152"
            ],
            [
             0.1,
             "#c51b7d"
            ],
            [
             0.2,
             "#de77ae"
            ],
            [
             0.3,
             "#f1b6da"
            ],
            [
             0.4,
             "#fde0ef"
            ],
            [
             0.5,
             "#f7f7f7"
            ],
            [
             0.6,
             "#e6f5d0"
            ],
            [
             0.7,
             "#b8e186"
            ],
            [
             0.8,
             "#7fbc41"
            ],
            [
             0.9,
             "#4d9221"
            ],
            [
             1,
             "#276419"
            ]
           ],
           "sequential": [
            [
             0,
             "#0d0887"
            ],
            [
             0.1111111111111111,
             "#46039f"
            ],
            [
             0.2222222222222222,
             "#7201a8"
            ],
            [
             0.3333333333333333,
             "#9c179e"
            ],
            [
             0.4444444444444444,
             "#bd3786"
            ],
            [
             0.5555555555555556,
             "#d8576b"
            ],
            [
             0.6666666666666666,
             "#ed7953"
            ],
            [
             0.7777777777777778,
             "#fb9f3a"
            ],
            [
             0.8888888888888888,
             "#fdca26"
            ],
            [
             1,
             "#f0f921"
            ]
           ],
           "sequentialminus": [
            [
             0,
             "#0d0887"
            ],
            [
             0.1111111111111111,
             "#46039f"
            ],
            [
             0.2222222222222222,
             "#7201a8"
            ],
            [
             0.3333333333333333,
             "#9c179e"
            ],
            [
             0.4444444444444444,
             "#bd3786"
            ],
            [
             0.5555555555555556,
             "#d8576b"
            ],
            [
             0.6666666666666666,
             "#ed7953"
            ],
            [
             0.7777777777777778,
             "#fb9f3a"
            ],
            [
             0.8888888888888888,
             "#fdca26"
            ],
            [
             1,
             "#f0f921"
            ]
           ]
          },
          "colorway": [
           "#636efa",
           "#EF553B",
           "#00cc96",
           "#ab63fa",
           "#FFA15A",
           "#19d3f3",
           "#FF6692",
           "#B6E880",
           "#FF97FF",
           "#FECB52"
          ],
          "font": {
           "color": "#2a3f5f"
          },
          "geo": {
           "bgcolor": "white",
           "lakecolor": "white",
           "landcolor": "#E5ECF6",
           "showlakes": true,
           "showland": true,
           "subunitcolor": "white"
          },
          "hoverlabel": {
           "align": "left"
          },
          "hovermode": "closest",
          "mapbox": {
           "style": "light"
          },
          "paper_bgcolor": "white",
          "plot_bgcolor": "#E5ECF6",
          "polar": {
           "angularaxis": {
            "gridcolor": "white",
            "linecolor": "white",
            "ticks": ""
           },
           "bgcolor": "#E5ECF6",
           "radialaxis": {
            "gridcolor": "white",
            "linecolor": "white",
            "ticks": ""
           }
          },
          "scene": {
           "xaxis": {
            "backgroundcolor": "#E5ECF6",
            "gridcolor": "white",
            "gridwidth": 2,
            "linecolor": "white",
            "showbackground": true,
            "ticks": "",
            "zerolinecolor": "white"
           },
           "yaxis": {
            "backgroundcolor": "#E5ECF6",
            "gridcolor": "white",
            "gridwidth": 2,
            "linecolor": "white",
            "showbackground": true,
            "ticks": "",
            "zerolinecolor": "white"
           },
           "zaxis": {
            "backgroundcolor": "#E5ECF6",
            "gridcolor": "white",
            "gridwidth": 2,
            "linecolor": "white",
            "showbackground": true,
            "ticks": "",
            "zerolinecolor": "white"
           }
          },
          "shapedefaults": {
           "line": {
            "color": "#2a3f5f"
           }
          },
          "ternary": {
           "aaxis": {
            "gridcolor": "white",
            "linecolor": "white",
            "ticks": ""
           },
           "baxis": {
            "gridcolor": "white",
            "linecolor": "white",
            "ticks": ""
           },
           "bgcolor": "#E5ECF6",
           "caxis": {
            "gridcolor": "white",
            "linecolor": "white",
            "ticks": ""
           }
          },
          "title": {
           "x": 0.05
          },
          "xaxis": {
           "automargin": true,
           "gridcolor": "white",
           "linecolor": "white",
           "ticks": "",
           "title": {
            "standoff": 15
           },
           "zerolinecolor": "white",
           "zerolinewidth": 2
          },
          "yaxis": {
           "automargin": true,
           "gridcolor": "white",
           "linecolor": "white",
           "ticks": "",
           "title": {
            "standoff": 15
           },
           "zerolinecolor": "white",
           "zerolinewidth": 2
          }
         }
        },
        "title": {
         "text": "Hyperparameter Importances"
        },
        "xaxis": {
         "title": {
          "text": "Importance for Objective Value"
         }
        },
        "yaxis": {
         "title": {
          "text": "Hyperparameter"
         }
        }
       }
      },
      "text/html": [
       "<div>                            <div id=\"7e366dfb-69ad-45ad-9ca5-6aa64d44753f\" class=\"plotly-graph-div\" style=\"height:525px; width:100%;\"></div>            <script type=\"text/javascript\">                require([\"plotly\"], function(Plotly) {                    window.PLOTLYENV=window.PLOTLYENV || {};                                    if (document.getElementById(\"7e366dfb-69ad-45ad-9ca5-6aa64d44753f\")) {                    Plotly.newPlot(                        \"7e366dfb-69ad-45ad-9ca5-6aa64d44753f\",                        [{\"cliponaxis\":false,\"hovertemplate\":[\"norm_dkd (CategoricalDistribution): 0.10043417948715305<extra></extra>\",\"temp_dkd (CategoricalDistribution): 0.11975786094580654<extra></extra>\",\"lambda_dkd (CategoricalDistribution): 0.24894964423081176<extra></extra>\",\"beta_dkd (CategoricalDistribution): 0.5308583153362286<extra></extra>\"],\"marker\":{\"color\":\"rgb(66,146,198)\"},\"orientation\":\"h\",\"text\":[\"0.10\",\"0.12\",\"0.25\",\"0.53\"],\"textposition\":\"outside\",\"x\":[0.10043417948715305,0.11975786094580654,0.24894964423081176,0.5308583153362286],\"y\":[\"norm_dkd\",\"temp_dkd\",\"lambda_dkd\",\"beta_dkd\"],\"type\":\"bar\"}],                        {\"showlegend\":false,\"title\":{\"text\":\"Hyperparameter Importances\"},\"xaxis\":{\"title\":{\"text\":\"Importance for Objective Value\"}},\"yaxis\":{\"title\":{\"text\":\"Hyperparameter\"}},\"template\":{\"data\":{\"histogram2dcontour\":[{\"type\":\"histogram2dcontour\",\"colorbar\":{\"outlinewidth\":0,\"ticks\":\"\"},\"colorscale\":[[0.0,\"#0d0887\"],[0.1111111111111111,\"#46039f\"],[0.2222222222222222,\"#7201a8\"],[0.3333333333333333,\"#9c179e\"],[0.4444444444444444,\"#bd3786\"],[0.5555555555555556,\"#d8576b\"],[0.6666666666666666,\"#ed7953\"],[0.7777777777777778,\"#fb9f3a\"],[0.8888888888888888,\"#fdca26\"],[1.0,\"#f0f921\"]]}],\"choropleth\":[{\"type\":\"choropleth\",\"colorbar\":{\"outlinewidth\":0,\"ticks\":\"\"}}],\"histogram2d\":[{\"type\":\"histogram2d\",\"colorbar\":{\"outlinewidth\":0,\"ticks\":\"\"},\"colorscale\":[[0.0,\"#0d0887\"],[0.1111111111111111,\"#46039f\"],[0.2222222222222222,\"#7201a8\"],[0.3333333333333333,\"#9c179e\"],[0.4444444444444444,\"#bd3786\"],[0.5555555555555556,\"#d8576b\"],[0.6666666666666666,\"#ed7953\"],[0.7777777777777778,\"#fb9f3a\"],[0.8888888888888888,\"#fdca26\"],[1.0,\"#f0f921\"]]}],\"heatmap\":[{\"type\":\"heatmap\",\"colorbar\":{\"outlinewidth\":0,\"ticks\":\"\"},\"colorscale\":[[0.0,\"#0d0887\"],[0.1111111111111111,\"#46039f\"],[0.2222222222222222,\"#7201a8\"],[0.3333333333333333,\"#9c179e\"],[0.4444444444444444,\"#bd3786\"],[0.5555555555555556,\"#d8576b\"],[0.6666666666666666,\"#ed7953\"],[0.7777777777777778,\"#fb9f3a\"],[0.8888888888888888,\"#fdca26\"],[1.0,\"#f0f921\"]]}],\"heatmapgl\":[{\"type\":\"heatmapgl\",\"colorbar\":{\"outlinewidth\":0,\"ticks\":\"\"},\"colorscale\":[[0.0,\"#0d0887\"],[0.1111111111111111,\"#46039f\"],[0.2222222222222222,\"#7201a8\"],[0.3333333333333333,\"#9c179e\"],[0.4444444444444444,\"#bd3786\"],[0.5555555555555556,\"#d8576b\"],[0.6666666666666666,\"#ed7953\"],[0.7777777777777778,\"#fb9f3a\"],[0.8888888888888888,\"#fdca26\"],[1.0,\"#f0f921\"]]}],\"contourcarpet\":[{\"type\":\"contourcarpet\",\"colorbar\":{\"outlinewidth\":0,\"ticks\":\"\"}}],\"contour\":[{\"type\":\"contour\",\"colorbar\":{\"outlinewidth\":0,\"ticks\":\"\"},\"colorscale\":[[0.0,\"#0d0887\"],[0.1111111111111111,\"#46039f\"],[0.2222222222222222,\"#7201a8\"],[0.3333333333333333,\"#9c179e\"],[0.4444444444444444,\"#bd3786\"],[0.5555555555555556,\"#d8576b\"],[0.6666666666666666,\"#ed7953\"],[0.7777777777777778,\"#fb9f3a\"],[0.8888888888888888,\"#fdca26\"],[1.0,\"#f0f921\"]]}],\"surface\":[{\"type\":\"surface\",\"colorbar\":{\"outlinewidth\":0,\"ticks\":\"\"},\"colorscale\":[[0.0,\"#0d0887\"],[0.1111111111111111,\"#46039f\"],[0.2222222222222222,\"#7201a8\"],[0.3333333333333333,\"#9c179e\"],[0.4444444444444444,\"#bd3786\"],[0.5555555555555556,\"#d8576b\"],[0.6666666666666666,\"#ed7953\"],[0.7777777777777778,\"#fb9f3a\"],[0.8888888888888888,\"#fdca26\"],[1.0,\"#f0f921\"]]}],\"mesh3d\":[{\"type\":\"mesh3d\",\"colorbar\":{\"outlinewidth\":0,\"ticks\":\"\"}}],\"scatter\":[{\"fillpattern\":{\"fillmode\":\"overlay\",\"size\":10,\"solidity\":0.2},\"type\":\"scatter\"}],\"parcoords\":[{\"type\":\"parcoords\",\"line\":{\"colorbar\":{\"outlinewidth\":0,\"ticks\":\"\"}}}],\"scatterpolargl\":[{\"type\":\"scatterpolargl\",\"marker\":{\"colorbar\":{\"outlinewidth\":0,\"ticks\":\"\"}}}],\"bar\":[{\"error_x\":{\"color\":\"#2a3f5f\"},\"error_y\":{\"color\":\"#2a3f5f\"},\"marker\":{\"line\":{\"color\":\"#E5ECF6\",\"width\":0.5},\"pattern\":{\"fillmode\":\"overlay\",\"size\":10,\"solidity\":0.2}},\"type\":\"bar\"}],\"scattergeo\":[{\"type\":\"scattergeo\",\"marker\":{\"colorbar\":{\"outlinewidth\":0,\"ticks\":\"\"}}}],\"scatterpolar\":[{\"type\":\"scatterpolar\",\"marker\":{\"colorbar\":{\"outlinewidth\":0,\"ticks\":\"\"}}}],\"histogram\":[{\"marker\":{\"pattern\":{\"fillmode\":\"overlay\",\"size\":10,\"solidity\":0.2}},\"type\":\"histogram\"}],\"scattergl\":[{\"type\":\"scattergl\",\"marker\":{\"colorbar\":{\"outlinewidth\":0,\"ticks\":\"\"}}}],\"scatter3d\":[{\"type\":\"scatter3d\",\"line\":{\"colorbar\":{\"outlinewidth\":0,\"ticks\":\"\"}},\"marker\":{\"colorbar\":{\"outlinewidth\":0,\"ticks\":\"\"}}}],\"scattermapbox\":[{\"type\":\"scattermapbox\",\"marker\":{\"colorbar\":{\"outlinewidth\":0,\"ticks\":\"\"}}}],\"scatterternary\":[{\"type\":\"scatterternary\",\"marker\":{\"colorbar\":{\"outlinewidth\":0,\"ticks\":\"\"}}}],\"scattercarpet\":[{\"type\":\"scattercarpet\",\"marker\":{\"colorbar\":{\"outlinewidth\":0,\"ticks\":\"\"}}}],\"carpet\":[{\"aaxis\":{\"endlinecolor\":\"#2a3f5f\",\"gridcolor\":\"white\",\"linecolor\":\"white\",\"minorgridcolor\":\"white\",\"startlinecolor\":\"#2a3f5f\"},\"baxis\":{\"endlinecolor\":\"#2a3f5f\",\"gridcolor\":\"white\",\"linecolor\":\"white\",\"minorgridcolor\":\"white\",\"startlinecolor\":\"#2a3f5f\"},\"type\":\"carpet\"}],\"table\":[{\"cells\":{\"fill\":{\"color\":\"#EBF0F8\"},\"line\":{\"color\":\"white\"}},\"header\":{\"fill\":{\"color\":\"#C8D4E3\"},\"line\":{\"color\":\"white\"}},\"type\":\"table\"}],\"barpolar\":[{\"marker\":{\"line\":{\"color\":\"#E5ECF6\",\"width\":0.5},\"pattern\":{\"fillmode\":\"overlay\",\"size\":10,\"solidity\":0.2}},\"type\":\"barpolar\"}],\"pie\":[{\"automargin\":true,\"type\":\"pie\"}]},\"layout\":{\"autotypenumbers\":\"strict\",\"colorway\":[\"#636efa\",\"#EF553B\",\"#00cc96\",\"#ab63fa\",\"#FFA15A\",\"#19d3f3\",\"#FF6692\",\"#B6E880\",\"#FF97FF\",\"#FECB52\"],\"font\":{\"color\":\"#2a3f5f\"},\"hovermode\":\"closest\",\"hoverlabel\":{\"align\":\"left\"},\"paper_bgcolor\":\"white\",\"plot_bgcolor\":\"#E5ECF6\",\"polar\":{\"bgcolor\":\"#E5ECF6\",\"angularaxis\":{\"gridcolor\":\"white\",\"linecolor\":\"white\",\"ticks\":\"\"},\"radialaxis\":{\"gridcolor\":\"white\",\"linecolor\":\"white\",\"ticks\":\"\"}},\"ternary\":{\"bgcolor\":\"#E5ECF6\",\"aaxis\":{\"gridcolor\":\"white\",\"linecolor\":\"white\",\"ticks\":\"\"},\"baxis\":{\"gridcolor\":\"white\",\"linecolor\":\"white\",\"ticks\":\"\"},\"caxis\":{\"gridcolor\":\"white\",\"linecolor\":\"white\",\"ticks\":\"\"}},\"coloraxis\":{\"colorbar\":{\"outlinewidth\":0,\"ticks\":\"\"}},\"colorscale\":{\"sequential\":[[0.0,\"#0d0887\"],[0.1111111111111111,\"#46039f\"],[0.2222222222222222,\"#7201a8\"],[0.3333333333333333,\"#9c179e\"],[0.4444444444444444,\"#bd3786\"],[0.5555555555555556,\"#d8576b\"],[0.6666666666666666,\"#ed7953\"],[0.7777777777777778,\"#fb9f3a\"],[0.8888888888888888,\"#fdca26\"],[1.0,\"#f0f921\"]],\"sequentialminus\":[[0.0,\"#0d0887\"],[0.1111111111111111,\"#46039f\"],[0.2222222222222222,\"#7201a8\"],[0.3333333333333333,\"#9c179e\"],[0.4444444444444444,\"#bd3786\"],[0.5555555555555556,\"#d8576b\"],[0.6666666666666666,\"#ed7953\"],[0.7777777777777778,\"#fb9f3a\"],[0.8888888888888888,\"#fdca26\"],[1.0,\"#f0f921\"]],\"diverging\":[[0,\"#8e0152\"],[0.1,\"#c51b7d\"],[0.2,\"#de77ae\"],[0.3,\"#f1b6da\"],[0.4,\"#fde0ef\"],[0.5,\"#f7f7f7\"],[0.6,\"#e6f5d0\"],[0.7,\"#b8e186\"],[0.8,\"#7fbc41\"],[0.9,\"#4d9221\"],[1,\"#276419\"]]},\"xaxis\":{\"gridcolor\":\"white\",\"linecolor\":\"white\",\"ticks\":\"\",\"title\":{\"standoff\":15},\"zerolinecolor\":\"white\",\"automargin\":true,\"zerolinewidth\":2},\"yaxis\":{\"gridcolor\":\"white\",\"linecolor\":\"white\",\"ticks\":\"\",\"title\":{\"standoff\":15},\"zerolinecolor\":\"white\",\"automargin\":true,\"zerolinewidth\":2},\"scene\":{\"xaxis\":{\"backgroundcolor\":\"#E5ECF6\",\"gridcolor\":\"white\",\"linecolor\":\"white\",\"showbackground\":true,\"ticks\":\"\",\"zerolinecolor\":\"white\",\"gridwidth\":2},\"yaxis\":{\"backgroundcolor\":\"#E5ECF6\",\"gridcolor\":\"white\",\"linecolor\":\"white\",\"showbackground\":true,\"ticks\":\"\",\"zerolinecolor\":\"white\",\"gridwidth\":2},\"zaxis\":{\"backgroundcolor\":\"#E5ECF6\",\"gridcolor\":\"white\",\"linecolor\":\"white\",\"showbackground\":true,\"ticks\":\"\",\"zerolinecolor\":\"white\",\"gridwidth\":2}},\"shapedefaults\":{\"line\":{\"color\":\"#2a3f5f\"}},\"annotationdefaults\":{\"arrowcolor\":\"#2a3f5f\",\"arrowhead\":0,\"arrowwidth\":1},\"geo\":{\"bgcolor\":\"white\",\"landcolor\":\"#E5ECF6\",\"subunitcolor\":\"white\",\"showland\":true,\"showlakes\":true,\"lakecolor\":\"white\"},\"title\":{\"x\":0.05},\"mapbox\":{\"style\":\"light\"}}}},                        {\"responsive\": true}                    ).then(function(){\n",
       "                            \n",
       "var gd = document.getElementById('7e366dfb-69ad-45ad-9ca5-6aa64d44753f');\n",
       "var x = new MutationObserver(function (mutations, observer) {{\n",
       "        var display = window.getComputedStyle(gd).display;\n",
       "        if (!display || display === 'none') {{\n",
       "            console.log([gd, 'removed!']);\n",
       "            Plotly.purge(gd);\n",
       "            observer.disconnect();\n",
       "        }}\n",
       "}});\n",
       "\n",
       "// Listen for the removal of the full notebook cells\n",
       "var notebookContainer = gd.closest('#notebook-container');\n",
       "if (notebookContainer) {{\n",
       "    x.observe(notebookContainer, {childList: true});\n",
       "}}\n",
       "\n",
       "// Listen for the clearing of the current output cell\n",
       "var outputEl = gd.closest('.output');\n",
       "if (outputEl) {{\n",
       "    x.observe(outputEl, {childList: true});\n",
       "}}\n",
       "\n",
       "                        })                };                });            </script>        </div>"
      ]
     },
     "metadata": {},
     "output_type": "display_data"
    }
   ],
   "source": [
    "fig = optuna.visualization.plot_param_importances(study)\n",
    "fig.show()"
   ]
  },
  {
   "cell_type": "code",
   "execution_count": 20,
   "id": "629624a1",
   "metadata": {
    "ExecuteTime": {
     "end_time": "2023-03-07T09:13:38.080598Z",
     "start_time": "2023-03-07T09:13:38.070715Z"
    }
   },
   "outputs": [
    {
     "data": {
      "application/vnd.plotly.v1+json": {
       "config": {
        "plotlyServerURL": "https://plot.ly"
       },
       "data": [
        {
         "marker": {
          "maxdisplayed": 10
         },
         "mode": "lines+markers",
         "name": "Trial0",
         "type": "scatter",
         "x": [
          4999,
          9999,
          14999,
          19999,
          24999,
          29999,
          34999,
          39999
         ],
         "y": [
          0.44863114712786734,
          0.5029582835689004,
          0.5589336471400164,
          0.5472538305400537,
          0.5607717429850316,
          0.5955204712090004,
          0.6185643026021979,
          0.6863807531561188
         ]
        },
        {
         "marker": {
          "maxdisplayed": 10
         },
         "mode": "lines+markers",
         "name": "Trial1",
         "type": "scatter",
         "x": [
          4999,
          9999,
          14999,
          19999,
          24999,
          29999,
          34999,
          39999
         ],
         "y": [
          0.41946348297462405,
          0.4766941406243812,
          0.4790794200824925,
          0.5136264301719065,
          0.5656004445066719,
          0.5982559158390528,
          0.6443157629025327,
          0.6571960449337652
         ]
        },
        {
         "marker": {
          "maxdisplayed": 10
         },
         "mode": "lines+markers",
         "name": "Trial2",
         "type": "scatter",
         "x": [
          4999,
          9999,
          14999,
          19999,
          24999,
          29999,
          34999,
          39999
         ],
         "y": [
          0.4814985857008454,
          0.5221420235689617,
          0.5660165318651401,
          0.5432912243363893,
          0.584305101141425,
          0.5998139984479419,
          0.6292561723214891,
          0.6637560290165136
         ]
        },
        {
         "marker": {
          "maxdisplayed": 10
         },
         "mode": "lines+markers",
         "name": "Trial3",
         "type": "scatter",
         "x": [
          4999
         ],
         "y": [
          0.4677366610497455
         ]
        },
        {
         "marker": {
          "maxdisplayed": 10
         },
         "mode": "lines+markers",
         "name": "Trial4",
         "type": "scatter",
         "x": [
          4999,
          9999,
          14999,
          19999,
          24999,
          29999,
          34999,
          39999
         ],
         "y": [
          0.4378090397382772,
          0.5271787913053257,
          0.5042590889487554,
          0.5753450193627373,
          0.5592120015421265,
          0.6172091101457241,
          0.6653646135128494,
          0.6937515031266286
         ]
        },
        {
         "marker": {
          "maxdisplayed": 10
         },
         "mode": "lines+markers",
         "name": "Trial5",
         "type": "scatter",
         "x": [
          4999,
          9999,
          14999,
          19999,
          24999,
          29999,
          34999,
          39999
         ],
         "y": [
          0.4682976015758156,
          0.5036434222649977,
          0.5098971712478632,
          0.5060821691235521,
          0.6049979312613286,
          0.5727146240139058,
          0.652192576531276,
          0.6726728879979053
         ]
        },
        {
         "marker": {
          "maxdisplayed": 10
         },
         "mode": "lines+markers",
         "name": "Trial6",
         "type": "scatter",
         "x": [
          4999,
          9999,
          14999,
          19999,
          24999,
          29999,
          34999,
          39999
         ],
         "y": [
          0.49888744974390786,
          0.5236964215741737,
          0.5472957235746606,
          0.5638670495944532,
          0.5983088283340713,
          0.6127170899594573,
          0.6375031649148993,
          0.6866946685354687
         ]
        },
        {
         "marker": {
          "maxdisplayed": 10
         },
         "mode": "lines+markers",
         "name": "Trial7",
         "type": "scatter",
         "x": [
          4999,
          9999,
          14999,
          19999,
          24999,
          29999,
          34999,
          39999
         ],
         "y": [
          0.506539115032984,
          0.5427523572947014,
          0.5294967441465306,
          0.6187904362965791,
          0.6312033255931591,
          0.6449722773162343,
          0.671334568584186,
          0.712997271080825
         ]
        },
        {
         "marker": {
          "maxdisplayed": 10
         },
         "mode": "lines+markers",
         "name": "Trial8",
         "type": "scatter",
         "x": [
          4999
         ],
         "y": [
          0.3780300234859901
         ]
        },
        {
         "marker": {
          "maxdisplayed": 10
         },
         "mode": "lines+markers",
         "name": "Trial9",
         "type": "scatter",
         "x": [
          4999,
          9999,
          14999,
          19999,
          24999,
          29999,
          34999,
          39999
         ],
         "y": [
          0.45531318839882123,
          0.5046396308216916,
          0.5377333098881704,
          0.5121676814028047,
          0.5726884424542684,
          0.6223194302457139,
          0.6493028011339204,
          0.685383635307665
         ]
        },
        {
         "marker": {
          "maxdisplayed": 10
         },
         "mode": "lines+markers",
         "name": "Trial10",
         "type": "scatter",
         "x": [
          4999
         ],
         "y": [
          0.4030311296715062
         ]
        },
        {
         "marker": {
          "maxdisplayed": 10
         },
         "mode": "lines+markers",
         "name": "Trial11",
         "type": "scatter",
         "x": [
          4999
         ],
         "y": [
          0.4862105245943977
         ]
        },
        {
         "marker": {
          "maxdisplayed": 10
         },
         "mode": "lines+markers",
         "name": "Trial12",
         "type": "scatter",
         "x": [
          4999
         ],
         "y": [
          0.4154524988753277
         ]
        },
        {
         "marker": {
          "maxdisplayed": 10
         },
         "mode": "lines+markers",
         "name": "Trial13",
         "type": "scatter",
         "x": [
          4999
         ],
         "y": [
          0.4621407020399267
         ]
        },
        {
         "marker": {
          "maxdisplayed": 10
         },
         "mode": "lines+markers",
         "name": "Trial14",
         "type": "scatter",
         "x": [
          4999,
          9999,
          14999,
          19999,
          24999,
          29999,
          34999,
          39999
         ],
         "y": [
          0.5171364643462628,
          0.538045334728035,
          0.5207985436167015,
          0.5500631107359515,
          0.606025374463495,
          0.6286625454946396,
          0.6359871562656357,
          0.6758126112407985
         ]
        },
        {
         "marker": {
          "maxdisplayed": 10
         },
         "mode": "lines+markers",
         "name": "Trial15",
         "type": "scatter",
         "x": [
          4999
         ],
         "y": [
          0.4796862858657379
         ]
        },
        {
         "marker": {
          "maxdisplayed": 10
         },
         "mode": "lines+markers",
         "name": "Trial16",
         "type": "scatter",
         "x": [
          4999
         ],
         "y": [
          0.4990146380676598
         ]
        },
        {
         "marker": {
          "maxdisplayed": 10
         },
         "mode": "lines+markers",
         "name": "Trial17",
         "type": "scatter",
         "x": [
          4999
         ],
         "y": [
          0.4725507652146446
         ]
        },
        {
         "marker": {
          "maxdisplayed": 10
         },
         "mode": "lines+markers",
         "name": "Trial18",
         "type": "scatter",
         "x": [
          4999,
          9999
         ],
         "y": [
          0.5162815493564968,
          0.5177382025168513
         ]
        },
        {
         "marker": {
          "maxdisplayed": 10
         },
         "mode": "lines+markers",
         "name": "Trial19",
         "type": "scatter",
         "x": [
          4999
         ],
         "y": [
          0.4671690030177465
         ]
        },
        {
         "marker": {
          "maxdisplayed": 10
         },
         "mode": "lines+markers",
         "name": "Trial20",
         "type": "scatter",
         "x": [
          4999
         ],
         "y": [
          0.4997831192880522
         ]
        },
        {
         "marker": {
          "maxdisplayed": 10
         },
         "mode": "lines+markers",
         "name": "Trial21",
         "type": "scatter",
         "x": [
          4999
         ],
         "y": [
          0.490914545055368
         ]
        },
        {
         "marker": {
          "maxdisplayed": 10
         },
         "mode": "lines+markers",
         "name": "Trial22",
         "type": "scatter",
         "x": [
          4999
         ],
         "y": [
          0.38726789215104696
         ]
        },
        {
         "marker": {
          "maxdisplayed": 10
         },
         "mode": "lines+markers",
         "name": "Trial23",
         "type": "scatter",
         "x": [
          4999
         ],
         "y": [
          0.4444550492803428
         ]
        },
        {
         "marker": {
          "maxdisplayed": 10
         },
         "mode": "lines+markers",
         "name": "Trial24",
         "type": "scatter",
         "x": [
          4999,
          9999,
          14999,
          19999,
          24999,
          29999,
          34999,
          39999
         ],
         "y": [
          0.5418610300229666,
          0.5882114423052102,
          0.6152264360789224,
          0.6166101915025383,
          0.6454077129312283,
          0.6779787652035786,
          0.7029970090677826,
          0.7197678388156104
         ]
        },
        {
         "marker": {
          "maxdisplayed": 10
         },
         "mode": "lines+markers",
         "name": "Trial25",
         "type": "scatter",
         "x": [
          4999
         ],
         "y": [
          0.45228028126080844
         ]
        },
        {
         "marker": {
          "maxdisplayed": 10
         },
         "mode": "lines+markers",
         "name": "Trial26",
         "type": "scatter",
         "x": [
          4999
         ],
         "y": [
          0.4867927555342031
         ]
        },
        {
         "marker": {
          "maxdisplayed": 10
         },
         "mode": "lines+markers",
         "name": "Trial27",
         "type": "scatter",
         "x": [
          4999
         ],
         "y": [
          0.44075226406185025
         ]
        },
        {
         "marker": {
          "maxdisplayed": 10
         },
         "mode": "lines+markers",
         "name": "Trial28",
         "type": "scatter",
         "x": [
          4999
         ],
         "y": [
          0.42372328668109166
         ]
        },
        {
         "marker": {
          "maxdisplayed": 10
         },
         "mode": "lines+markers",
         "name": "Trial29",
         "type": "scatter",
         "x": [
          4999
         ],
         "y": [
          0.4792131559706952
         ]
        },
        {
         "marker": {
          "maxdisplayed": 10
         },
         "mode": "lines+markers",
         "name": "Trial30",
         "type": "scatter",
         "x": [
          4999
         ],
         "y": [
          0.49200253932990823
         ]
        },
        {
         "marker": {
          "maxdisplayed": 10
         },
         "mode": "lines+markers",
         "name": "Trial31",
         "type": "scatter",
         "x": [
          4999,
          9999,
          14999,
          19999
         ],
         "y": [
          0.49346952990466725,
          0.5380012045822177,
          0.5326026090462433,
          0.5360661731308053
         ]
        },
        {
         "marker": {
          "maxdisplayed": 10
         },
         "mode": "lines+markers",
         "name": "Trial32",
         "type": "scatter",
         "x": [
          4999,
          9999
         ],
         "y": [
          0.5450843446912726,
          0.5792983326937478
         ]
        },
        {
         "marker": {
          "maxdisplayed": 10
         },
         "mode": "lines+markers",
         "name": "Trial33",
         "type": "scatter",
         "x": [
          4999
         ],
         "y": [
          0.47961312585476523
         ]
        }
       ],
       "layout": {
        "showlegend": false,
        "template": {
         "data": {
          "bar": [
           {
            "error_x": {
             "color": "#2a3f5f"
            },
            "error_y": {
             "color": "#2a3f5f"
            },
            "marker": {
             "line": {
              "color": "#E5ECF6",
              "width": 0.5
             },
             "pattern": {
              "fillmode": "overlay",
              "size": 10,
              "solidity": 0.2
             }
            },
            "type": "bar"
           }
          ],
          "barpolar": [
           {
            "marker": {
             "line": {
              "color": "#E5ECF6",
              "width": 0.5
             },
             "pattern": {
              "fillmode": "overlay",
              "size": 10,
              "solidity": 0.2
             }
            },
            "type": "barpolar"
           }
          ],
          "carpet": [
           {
            "aaxis": {
             "endlinecolor": "#2a3f5f",
             "gridcolor": "white",
             "linecolor": "white",
             "minorgridcolor": "white",
             "startlinecolor": "#2a3f5f"
            },
            "baxis": {
             "endlinecolor": "#2a3f5f",
             "gridcolor": "white",
             "linecolor": "white",
             "minorgridcolor": "white",
             "startlinecolor": "#2a3f5f"
            },
            "type": "carpet"
           }
          ],
          "choropleth": [
           {
            "colorbar": {
             "outlinewidth": 0,
             "ticks": ""
            },
            "type": "choropleth"
           }
          ],
          "contour": [
           {
            "colorbar": {
             "outlinewidth": 0,
             "ticks": ""
            },
            "colorscale": [
             [
              0,
              "#0d0887"
             ],
             [
              0.1111111111111111,
              "#46039f"
             ],
             [
              0.2222222222222222,
              "#7201a8"
             ],
             [
              0.3333333333333333,
              "#9c179e"
             ],
             [
              0.4444444444444444,
              "#bd3786"
             ],
             [
              0.5555555555555556,
              "#d8576b"
             ],
             [
              0.6666666666666666,
              "#ed7953"
             ],
             [
              0.7777777777777778,
              "#fb9f3a"
             ],
             [
              0.8888888888888888,
              "#fdca26"
             ],
             [
              1,
              "#f0f921"
             ]
            ],
            "type": "contour"
           }
          ],
          "contourcarpet": [
           {
            "colorbar": {
             "outlinewidth": 0,
             "ticks": ""
            },
            "type": "contourcarpet"
           }
          ],
          "heatmap": [
           {
            "colorbar": {
             "outlinewidth": 0,
             "ticks": ""
            },
            "colorscale": [
             [
              0,
              "#0d0887"
             ],
             [
              0.1111111111111111,
              "#46039f"
             ],
             [
              0.2222222222222222,
              "#7201a8"
             ],
             [
              0.3333333333333333,
              "#9c179e"
             ],
             [
              0.4444444444444444,
              "#bd3786"
             ],
             [
              0.5555555555555556,
              "#d8576b"
             ],
             [
              0.6666666666666666,
              "#ed7953"
             ],
             [
              0.7777777777777778,
              "#fb9f3a"
             ],
             [
              0.8888888888888888,
              "#fdca26"
             ],
             [
              1,
              "#f0f921"
             ]
            ],
            "type": "heatmap"
           }
          ],
          "heatmapgl": [
           {
            "colorbar": {
             "outlinewidth": 0,
             "ticks": ""
            },
            "colorscale": [
             [
              0,
              "#0d0887"
             ],
             [
              0.1111111111111111,
              "#46039f"
             ],
             [
              0.2222222222222222,
              "#7201a8"
             ],
             [
              0.3333333333333333,
              "#9c179e"
             ],
             [
              0.4444444444444444,
              "#bd3786"
             ],
             [
              0.5555555555555556,
              "#d8576b"
             ],
             [
              0.6666666666666666,
              "#ed7953"
             ],
             [
              0.7777777777777778,
              "#fb9f3a"
             ],
             [
              0.8888888888888888,
              "#fdca26"
             ],
             [
              1,
              "#f0f921"
             ]
            ],
            "type": "heatmapgl"
           }
          ],
          "histogram": [
           {
            "marker": {
             "pattern": {
              "fillmode": "overlay",
              "size": 10,
              "solidity": 0.2
             }
            },
            "type": "histogram"
           }
          ],
          "histogram2d": [
           {
            "colorbar": {
             "outlinewidth": 0,
             "ticks": ""
            },
            "colorscale": [
             [
              0,
              "#0d0887"
             ],
             [
              0.1111111111111111,
              "#46039f"
             ],
             [
              0.2222222222222222,
              "#7201a8"
             ],
             [
              0.3333333333333333,
              "#9c179e"
             ],
             [
              0.4444444444444444,
              "#bd3786"
             ],
             [
              0.5555555555555556,
              "#d8576b"
             ],
             [
              0.6666666666666666,
              "#ed7953"
             ],
             [
              0.7777777777777778,
              "#fb9f3a"
             ],
             [
              0.8888888888888888,
              "#fdca26"
             ],
             [
              1,
              "#f0f921"
             ]
            ],
            "type": "histogram2d"
           }
          ],
          "histogram2dcontour": [
           {
            "colorbar": {
             "outlinewidth": 0,
             "ticks": ""
            },
            "colorscale": [
             [
              0,
              "#0d0887"
             ],
             [
              0.1111111111111111,
              "#46039f"
             ],
             [
              0.2222222222222222,
              "#7201a8"
             ],
             [
              0.3333333333333333,
              "#9c179e"
             ],
             [
              0.4444444444444444,
              "#bd3786"
             ],
             [
              0.5555555555555556,
              "#d8576b"
             ],
             [
              0.6666666666666666,
              "#ed7953"
             ],
             [
              0.7777777777777778,
              "#fb9f3a"
             ],
             [
              0.8888888888888888,
              "#fdca26"
             ],
             [
              1,
              "#f0f921"
             ]
            ],
            "type": "histogram2dcontour"
           }
          ],
          "mesh3d": [
           {
            "colorbar": {
             "outlinewidth": 0,
             "ticks": ""
            },
            "type": "mesh3d"
           }
          ],
          "parcoords": [
           {
            "line": {
             "colorbar": {
              "outlinewidth": 0,
              "ticks": ""
             }
            },
            "type": "parcoords"
           }
          ],
          "pie": [
           {
            "automargin": true,
            "type": "pie"
           }
          ],
          "scatter": [
           {
            "fillpattern": {
             "fillmode": "overlay",
             "size": 10,
             "solidity": 0.2
            },
            "type": "scatter"
           }
          ],
          "scatter3d": [
           {
            "line": {
             "colorbar": {
              "outlinewidth": 0,
              "ticks": ""
             }
            },
            "marker": {
             "colorbar": {
              "outlinewidth": 0,
              "ticks": ""
             }
            },
            "type": "scatter3d"
           }
          ],
          "scattercarpet": [
           {
            "marker": {
             "colorbar": {
              "outlinewidth": 0,
              "ticks": ""
             }
            },
            "type": "scattercarpet"
           }
          ],
          "scattergeo": [
           {
            "marker": {
             "colorbar": {
              "outlinewidth": 0,
              "ticks": ""
             }
            },
            "type": "scattergeo"
           }
          ],
          "scattergl": [
           {
            "marker": {
             "colorbar": {
              "outlinewidth": 0,
              "ticks": ""
             }
            },
            "type": "scattergl"
           }
          ],
          "scattermapbox": [
           {
            "marker": {
             "colorbar": {
              "outlinewidth": 0,
              "ticks": ""
             }
            },
            "type": "scattermapbox"
           }
          ],
          "scatterpolar": [
           {
            "marker": {
             "colorbar": {
              "outlinewidth": 0,
              "ticks": ""
             }
            },
            "type": "scatterpolar"
           }
          ],
          "scatterpolargl": [
           {
            "marker": {
             "colorbar": {
              "outlinewidth": 0,
              "ticks": ""
             }
            },
            "type": "scatterpolargl"
           }
          ],
          "scatterternary": [
           {
            "marker": {
             "colorbar": {
              "outlinewidth": 0,
              "ticks": ""
             }
            },
            "type": "scatterternary"
           }
          ],
          "surface": [
           {
            "colorbar": {
             "outlinewidth": 0,
             "ticks": ""
            },
            "colorscale": [
             [
              0,
              "#0d0887"
             ],
             [
              0.1111111111111111,
              "#46039f"
             ],
             [
              0.2222222222222222,
              "#7201a8"
             ],
             [
              0.3333333333333333,
              "#9c179e"
             ],
             [
              0.4444444444444444,
              "#bd3786"
             ],
             [
              0.5555555555555556,
              "#d8576b"
             ],
             [
              0.6666666666666666,
              "#ed7953"
             ],
             [
              0.7777777777777778,
              "#fb9f3a"
             ],
             [
              0.8888888888888888,
              "#fdca26"
             ],
             [
              1,
              "#f0f921"
             ]
            ],
            "type": "surface"
           }
          ],
          "table": [
           {
            "cells": {
             "fill": {
              "color": "#EBF0F8"
             },
             "line": {
              "color": "white"
             }
            },
            "header": {
             "fill": {
              "color": "#C8D4E3"
             },
             "line": {
              "color": "white"
             }
            },
            "type": "table"
           }
          ]
         },
         "layout": {
          "annotationdefaults": {
           "arrowcolor": "#2a3f5f",
           "arrowhead": 0,
           "arrowwidth": 1
          },
          "autotypenumbers": "strict",
          "coloraxis": {
           "colorbar": {
            "outlinewidth": 0,
            "ticks": ""
           }
          },
          "colorscale": {
           "diverging": [
            [
             0,
             "#8e0152"
            ],
            [
             0.1,
             "#c51b7d"
            ],
            [
             0.2,
             "#de77ae"
            ],
            [
             0.3,
             "#f1b6da"
            ],
            [
             0.4,
             "#fde0ef"
            ],
            [
             0.5,
             "#f7f7f7"
            ],
            [
             0.6,
             "#e6f5d0"
            ],
            [
             0.7,
             "#b8e186"
            ],
            [
             0.8,
             "#7fbc41"
            ],
            [
             0.9,
             "#4d9221"
            ],
            [
             1,
             "#276419"
            ]
           ],
           "sequential": [
            [
             0,
             "#0d0887"
            ],
            [
             0.1111111111111111,
             "#46039f"
            ],
            [
             0.2222222222222222,
             "#7201a8"
            ],
            [
             0.3333333333333333,
             "#9c179e"
            ],
            [
             0.4444444444444444,
             "#bd3786"
            ],
            [
             0.5555555555555556,
             "#d8576b"
            ],
            [
             0.6666666666666666,
             "#ed7953"
            ],
            [
             0.7777777777777778,
             "#fb9f3a"
            ],
            [
             0.8888888888888888,
             "#fdca26"
            ],
            [
             1,
             "#f0f921"
            ]
           ],
           "sequentialminus": [
            [
             0,
             "#0d0887"
            ],
            [
             0.1111111111111111,
             "#46039f"
            ],
            [
             0.2222222222222222,
             "#7201a8"
            ],
            [
             0.3333333333333333,
             "#9c179e"
            ],
            [
             0.4444444444444444,
             "#bd3786"
            ],
            [
             0.5555555555555556,
             "#d8576b"
            ],
            [
             0.6666666666666666,
             "#ed7953"
            ],
            [
             0.7777777777777778,
             "#fb9f3a"
            ],
            [
             0.8888888888888888,
             "#fdca26"
            ],
            [
             1,
             "#f0f921"
            ]
           ]
          },
          "colorway": [
           "#636efa",
           "#EF553B",
           "#00cc96",
           "#ab63fa",
           "#FFA15A",
           "#19d3f3",
           "#FF6692",
           "#B6E880",
           "#FF97FF",
           "#FECB52"
          ],
          "font": {
           "color": "#2a3f5f"
          },
          "geo": {
           "bgcolor": "white",
           "lakecolor": "white",
           "landcolor": "#E5ECF6",
           "showlakes": true,
           "showland": true,
           "subunitcolor": "white"
          },
          "hoverlabel": {
           "align": "left"
          },
          "hovermode": "closest",
          "mapbox": {
           "style": "light"
          },
          "paper_bgcolor": "white",
          "plot_bgcolor": "#E5ECF6",
          "polar": {
           "angularaxis": {
            "gridcolor": "white",
            "linecolor": "white",
            "ticks": ""
           },
           "bgcolor": "#E5ECF6",
           "radialaxis": {
            "gridcolor": "white",
            "linecolor": "white",
            "ticks": ""
           }
          },
          "scene": {
           "xaxis": {
            "backgroundcolor": "#E5ECF6",
            "gridcolor": "white",
            "gridwidth": 2,
            "linecolor": "white",
            "showbackground": true,
            "ticks": "",
            "zerolinecolor": "white"
           },
           "yaxis": {
            "backgroundcolor": "#E5ECF6",
            "gridcolor": "white",
            "gridwidth": 2,
            "linecolor": "white",
            "showbackground": true,
            "ticks": "",
            "zerolinecolor": "white"
           },
           "zaxis": {
            "backgroundcolor": "#E5ECF6",
            "gridcolor": "white",
            "gridwidth": 2,
            "linecolor": "white",
            "showbackground": true,
            "ticks": "",
            "zerolinecolor": "white"
           }
          },
          "shapedefaults": {
           "line": {
            "color": "#2a3f5f"
           }
          },
          "ternary": {
           "aaxis": {
            "gridcolor": "white",
            "linecolor": "white",
            "ticks": ""
           },
           "baxis": {
            "gridcolor": "white",
            "linecolor": "white",
            "ticks": ""
           },
           "bgcolor": "#E5ECF6",
           "caxis": {
            "gridcolor": "white",
            "linecolor": "white",
            "ticks": ""
           }
          },
          "title": {
           "x": 0.05
          },
          "xaxis": {
           "automargin": true,
           "gridcolor": "white",
           "linecolor": "white",
           "ticks": "",
           "title": {
            "standoff": 15
           },
           "zerolinecolor": "white",
           "zerolinewidth": 2
          },
          "yaxis": {
           "automargin": true,
           "gridcolor": "white",
           "linecolor": "white",
           "ticks": "",
           "title": {
            "standoff": 15
           },
           "zerolinecolor": "white",
           "zerolinewidth": 2
          }
         }
        },
        "title": {
         "text": "Intermediate Values Plot"
        },
        "xaxis": {
         "title": {
          "text": "Step"
         }
        },
        "yaxis": {
         "title": {
          "text": "Intermediate Value"
         }
        }
       }
      },
      "text/html": [
       "<div>                            <div id=\"180bd880-978b-4007-a98e-4c7ceea9d527\" class=\"plotly-graph-div\" style=\"height:525px; width:100%;\"></div>            <script type=\"text/javascript\">                require([\"plotly\"], function(Plotly) {                    window.PLOTLYENV=window.PLOTLYENV || {};                                    if (document.getElementById(\"180bd880-978b-4007-a98e-4c7ceea9d527\")) {                    Plotly.newPlot(                        \"180bd880-978b-4007-a98e-4c7ceea9d527\",                        [{\"marker\":{\"maxdisplayed\":10},\"mode\":\"lines+markers\",\"name\":\"Trial0\",\"x\":[4999,9999,14999,19999,24999,29999,34999,39999],\"y\":[0.44863114712786734,0.5029582835689004,0.5589336471400164,0.5472538305400537,0.5607717429850316,0.5955204712090004,0.6185643026021979,0.6863807531561188],\"type\":\"scatter\"},{\"marker\":{\"maxdisplayed\":10},\"mode\":\"lines+markers\",\"name\":\"Trial1\",\"x\":[4999,9999,14999,19999,24999,29999,34999,39999],\"y\":[0.41946348297462405,0.4766941406243812,0.4790794200824925,0.5136264301719065,0.5656004445066719,0.5982559158390528,0.6443157629025327,0.6571960449337652],\"type\":\"scatter\"},{\"marker\":{\"maxdisplayed\":10},\"mode\":\"lines+markers\",\"name\":\"Trial2\",\"x\":[4999,9999,14999,19999,24999,29999,34999,39999],\"y\":[0.4814985857008454,0.5221420235689617,0.5660165318651401,0.5432912243363893,0.584305101141425,0.5998139984479419,0.6292561723214891,0.6637560290165136],\"type\":\"scatter\"},{\"marker\":{\"maxdisplayed\":10},\"mode\":\"lines+markers\",\"name\":\"Trial3\",\"x\":[4999],\"y\":[0.4677366610497455],\"type\":\"scatter\"},{\"marker\":{\"maxdisplayed\":10},\"mode\":\"lines+markers\",\"name\":\"Trial4\",\"x\":[4999,9999,14999,19999,24999,29999,34999,39999],\"y\":[0.4378090397382772,0.5271787913053257,0.5042590889487554,0.5753450193627373,0.5592120015421265,0.6172091101457241,0.6653646135128494,0.6937515031266286],\"type\":\"scatter\"},{\"marker\":{\"maxdisplayed\":10},\"mode\":\"lines+markers\",\"name\":\"Trial5\",\"x\":[4999,9999,14999,19999,24999,29999,34999,39999],\"y\":[0.4682976015758156,0.5036434222649977,0.5098971712478632,0.5060821691235521,0.6049979312613286,0.5727146240139058,0.652192576531276,0.6726728879979053],\"type\":\"scatter\"},{\"marker\":{\"maxdisplayed\":10},\"mode\":\"lines+markers\",\"name\":\"Trial6\",\"x\":[4999,9999,14999,19999,24999,29999,34999,39999],\"y\":[0.49888744974390786,0.5236964215741737,0.5472957235746606,0.5638670495944532,0.5983088283340713,0.6127170899594573,0.6375031649148993,0.6866946685354687],\"type\":\"scatter\"},{\"marker\":{\"maxdisplayed\":10},\"mode\":\"lines+markers\",\"name\":\"Trial7\",\"x\":[4999,9999,14999,19999,24999,29999,34999,39999],\"y\":[0.506539115032984,0.5427523572947014,0.5294967441465306,0.6187904362965791,0.6312033255931591,0.6449722773162343,0.671334568584186,0.712997271080825],\"type\":\"scatter\"},{\"marker\":{\"maxdisplayed\":10},\"mode\":\"lines+markers\",\"name\":\"Trial8\",\"x\":[4999],\"y\":[0.3780300234859901],\"type\":\"scatter\"},{\"marker\":{\"maxdisplayed\":10},\"mode\":\"lines+markers\",\"name\":\"Trial9\",\"x\":[4999,9999,14999,19999,24999,29999,34999,39999],\"y\":[0.45531318839882123,0.5046396308216916,0.5377333098881704,0.5121676814028047,0.5726884424542684,0.6223194302457139,0.6493028011339204,0.685383635307665],\"type\":\"scatter\"},{\"marker\":{\"maxdisplayed\":10},\"mode\":\"lines+markers\",\"name\":\"Trial10\",\"x\":[4999],\"y\":[0.4030311296715062],\"type\":\"scatter\"},{\"marker\":{\"maxdisplayed\":10},\"mode\":\"lines+markers\",\"name\":\"Trial11\",\"x\":[4999],\"y\":[0.4862105245943977],\"type\":\"scatter\"},{\"marker\":{\"maxdisplayed\":10},\"mode\":\"lines+markers\",\"name\":\"Trial12\",\"x\":[4999],\"y\":[0.4154524988753277],\"type\":\"scatter\"},{\"marker\":{\"maxdisplayed\":10},\"mode\":\"lines+markers\",\"name\":\"Trial13\",\"x\":[4999],\"y\":[0.4621407020399267],\"type\":\"scatter\"},{\"marker\":{\"maxdisplayed\":10},\"mode\":\"lines+markers\",\"name\":\"Trial14\",\"x\":[4999,9999,14999,19999,24999,29999,34999,39999],\"y\":[0.5171364643462628,0.538045334728035,0.5207985436167015,0.5500631107359515,0.606025374463495,0.6286625454946396,0.6359871562656357,0.6758126112407985],\"type\":\"scatter\"},{\"marker\":{\"maxdisplayed\":10},\"mode\":\"lines+markers\",\"name\":\"Trial15\",\"x\":[4999],\"y\":[0.4796862858657379],\"type\":\"scatter\"},{\"marker\":{\"maxdisplayed\":10},\"mode\":\"lines+markers\",\"name\":\"Trial16\",\"x\":[4999],\"y\":[0.4990146380676598],\"type\":\"scatter\"},{\"marker\":{\"maxdisplayed\":10},\"mode\":\"lines+markers\",\"name\":\"Trial17\",\"x\":[4999],\"y\":[0.4725507652146446],\"type\":\"scatter\"},{\"marker\":{\"maxdisplayed\":10},\"mode\":\"lines+markers\",\"name\":\"Trial18\",\"x\":[4999,9999],\"y\":[0.5162815493564968,0.5177382025168513],\"type\":\"scatter\"},{\"marker\":{\"maxdisplayed\":10},\"mode\":\"lines+markers\",\"name\":\"Trial19\",\"x\":[4999],\"y\":[0.4671690030177465],\"type\":\"scatter\"},{\"marker\":{\"maxdisplayed\":10},\"mode\":\"lines+markers\",\"name\":\"Trial20\",\"x\":[4999],\"y\":[0.4997831192880522],\"type\":\"scatter\"},{\"marker\":{\"maxdisplayed\":10},\"mode\":\"lines+markers\",\"name\":\"Trial21\",\"x\":[4999],\"y\":[0.490914545055368],\"type\":\"scatter\"},{\"marker\":{\"maxdisplayed\":10},\"mode\":\"lines+markers\",\"name\":\"Trial22\",\"x\":[4999],\"y\":[0.38726789215104696],\"type\":\"scatter\"},{\"marker\":{\"maxdisplayed\":10},\"mode\":\"lines+markers\",\"name\":\"Trial23\",\"x\":[4999],\"y\":[0.4444550492803428],\"type\":\"scatter\"},{\"marker\":{\"maxdisplayed\":10},\"mode\":\"lines+markers\",\"name\":\"Trial24\",\"x\":[4999,9999,14999,19999,24999,29999,34999,39999],\"y\":[0.5418610300229666,0.5882114423052102,0.6152264360789224,0.6166101915025383,0.6454077129312283,0.6779787652035786,0.7029970090677826,0.7197678388156104],\"type\":\"scatter\"},{\"marker\":{\"maxdisplayed\":10},\"mode\":\"lines+markers\",\"name\":\"Trial25\",\"x\":[4999],\"y\":[0.45228028126080844],\"type\":\"scatter\"},{\"marker\":{\"maxdisplayed\":10},\"mode\":\"lines+markers\",\"name\":\"Trial26\",\"x\":[4999],\"y\":[0.4867927555342031],\"type\":\"scatter\"},{\"marker\":{\"maxdisplayed\":10},\"mode\":\"lines+markers\",\"name\":\"Trial27\",\"x\":[4999],\"y\":[0.44075226406185025],\"type\":\"scatter\"},{\"marker\":{\"maxdisplayed\":10},\"mode\":\"lines+markers\",\"name\":\"Trial28\",\"x\":[4999],\"y\":[0.42372328668109166],\"type\":\"scatter\"},{\"marker\":{\"maxdisplayed\":10},\"mode\":\"lines+markers\",\"name\":\"Trial29\",\"x\":[4999],\"y\":[0.4792131559706952],\"type\":\"scatter\"},{\"marker\":{\"maxdisplayed\":10},\"mode\":\"lines+markers\",\"name\":\"Trial30\",\"x\":[4999],\"y\":[0.49200253932990823],\"type\":\"scatter\"},{\"marker\":{\"maxdisplayed\":10},\"mode\":\"lines+markers\",\"name\":\"Trial31\",\"x\":[4999,9999,14999,19999],\"y\":[0.49346952990466725,0.5380012045822177,0.5326026090462433,0.5360661731308053],\"type\":\"scatter\"},{\"marker\":{\"maxdisplayed\":10},\"mode\":\"lines+markers\",\"name\":\"Trial32\",\"x\":[4999,9999],\"y\":[0.5450843446912726,0.5792983326937478],\"type\":\"scatter\"},{\"marker\":{\"maxdisplayed\":10},\"mode\":\"lines+markers\",\"name\":\"Trial33\",\"x\":[4999],\"y\":[0.47961312585476523],\"type\":\"scatter\"}],                        {\"showlegend\":false,\"title\":{\"text\":\"Intermediate Values Plot\"},\"xaxis\":{\"title\":{\"text\":\"Step\"}},\"yaxis\":{\"title\":{\"text\":\"Intermediate Value\"}},\"template\":{\"data\":{\"histogram2dcontour\":[{\"type\":\"histogram2dcontour\",\"colorbar\":{\"outlinewidth\":0,\"ticks\":\"\"},\"colorscale\":[[0.0,\"#0d0887\"],[0.1111111111111111,\"#46039f\"],[0.2222222222222222,\"#7201a8\"],[0.3333333333333333,\"#9c179e\"],[0.4444444444444444,\"#bd3786\"],[0.5555555555555556,\"#d8576b\"],[0.6666666666666666,\"#ed7953\"],[0.7777777777777778,\"#fb9f3a\"],[0.8888888888888888,\"#fdca26\"],[1.0,\"#f0f921\"]]}],\"choropleth\":[{\"type\":\"choropleth\",\"colorbar\":{\"outlinewidth\":0,\"ticks\":\"\"}}],\"histogram2d\":[{\"type\":\"histogram2d\",\"colorbar\":{\"outlinewidth\":0,\"ticks\":\"\"},\"colorscale\":[[0.0,\"#0d0887\"],[0.1111111111111111,\"#46039f\"],[0.2222222222222222,\"#7201a8\"],[0.3333333333333333,\"#9c179e\"],[0.4444444444444444,\"#bd3786\"],[0.5555555555555556,\"#d8576b\"],[0.6666666666666666,\"#ed7953\"],[0.7777777777777778,\"#fb9f3a\"],[0.8888888888888888,\"#fdca26\"],[1.0,\"#f0f921\"]]}],\"heatmap\":[{\"type\":\"heatmap\",\"colorbar\":{\"outlinewidth\":0,\"ticks\":\"\"},\"colorscale\":[[0.0,\"#0d0887\"],[0.1111111111111111,\"#46039f\"],[0.2222222222222222,\"#7201a8\"],[0.3333333333333333,\"#9c179e\"],[0.4444444444444444,\"#bd3786\"],[0.5555555555555556,\"#d8576b\"],[0.6666666666666666,\"#ed7953\"],[0.7777777777777778,\"#fb9f3a\"],[0.8888888888888888,\"#fdca26\"],[1.0,\"#f0f921\"]]}],\"heatmapgl\":[{\"type\":\"heatmapgl\",\"colorbar\":{\"outlinewidth\":0,\"ticks\":\"\"},\"colorscale\":[[0.0,\"#0d0887\"],[0.1111111111111111,\"#46039f\"],[0.2222222222222222,\"#7201a8\"],[0.3333333333333333,\"#9c179e\"],[0.4444444444444444,\"#bd3786\"],[0.5555555555555556,\"#d8576b\"],[0.6666666666666666,\"#ed7953\"],[0.7777777777777778,\"#fb9f3a\"],[0.8888888888888888,\"#fdca26\"],[1.0,\"#f0f921\"]]}],\"contourcarpet\":[{\"type\":\"contourcarpet\",\"colorbar\":{\"outlinewidth\":0,\"ticks\":\"\"}}],\"contour\":[{\"type\":\"contour\",\"colorbar\":{\"outlinewidth\":0,\"ticks\":\"\"},\"colorscale\":[[0.0,\"#0d0887\"],[0.1111111111111111,\"#46039f\"],[0.2222222222222222,\"#7201a8\"],[0.3333333333333333,\"#9c179e\"],[0.4444444444444444,\"#bd3786\"],[0.5555555555555556,\"#d8576b\"],[0.6666666666666666,\"#ed7953\"],[0.7777777777777778,\"#fb9f3a\"],[0.8888888888888888,\"#fdca26\"],[1.0,\"#f0f921\"]]}],\"surface\":[{\"type\":\"surface\",\"colorbar\":{\"outlinewidth\":0,\"ticks\":\"\"},\"colorscale\":[[0.0,\"#0d0887\"],[0.1111111111111111,\"#46039f\"],[0.2222222222222222,\"#7201a8\"],[0.3333333333333333,\"#9c179e\"],[0.4444444444444444,\"#bd3786\"],[0.5555555555555556,\"#d8576b\"],[0.6666666666666666,\"#ed7953\"],[0.7777777777777778,\"#fb9f3a\"],[0.8888888888888888,\"#fdca26\"],[1.0,\"#f0f921\"]]}],\"mesh3d\":[{\"type\":\"mesh3d\",\"colorbar\":{\"outlinewidth\":0,\"ticks\":\"\"}}],\"scatter\":[{\"fillpattern\":{\"fillmode\":\"overlay\",\"size\":10,\"solidity\":0.2},\"type\":\"scatter\"}],\"parcoords\":[{\"type\":\"parcoords\",\"line\":{\"colorbar\":{\"outlinewidth\":0,\"ticks\":\"\"}}}],\"scatterpolargl\":[{\"type\":\"scatterpolargl\",\"marker\":{\"colorbar\":{\"outlinewidth\":0,\"ticks\":\"\"}}}],\"bar\":[{\"error_x\":{\"color\":\"#2a3f5f\"},\"error_y\":{\"color\":\"#2a3f5f\"},\"marker\":{\"line\":{\"color\":\"#E5ECF6\",\"width\":0.5},\"pattern\":{\"fillmode\":\"overlay\",\"size\":10,\"solidity\":0.2}},\"type\":\"bar\"}],\"scattergeo\":[{\"type\":\"scattergeo\",\"marker\":{\"colorbar\":{\"outlinewidth\":0,\"ticks\":\"\"}}}],\"scatterpolar\":[{\"type\":\"scatterpolar\",\"marker\":{\"colorbar\":{\"outlinewidth\":0,\"ticks\":\"\"}}}],\"histogram\":[{\"marker\":{\"pattern\":{\"fillmode\":\"overlay\",\"size\":10,\"solidity\":0.2}},\"type\":\"histogram\"}],\"scattergl\":[{\"type\":\"scattergl\",\"marker\":{\"colorbar\":{\"outlinewidth\":0,\"ticks\":\"\"}}}],\"scatter3d\":[{\"type\":\"scatter3d\",\"line\":{\"colorbar\":{\"outlinewidth\":0,\"ticks\":\"\"}},\"marker\":{\"colorbar\":{\"outlinewidth\":0,\"ticks\":\"\"}}}],\"scattermapbox\":[{\"type\":\"scattermapbox\",\"marker\":{\"colorbar\":{\"outlinewidth\":0,\"ticks\":\"\"}}}],\"scatterternary\":[{\"type\":\"scatterternary\",\"marker\":{\"colorbar\":{\"outlinewidth\":0,\"ticks\":\"\"}}}],\"scattercarpet\":[{\"type\":\"scattercarpet\",\"marker\":{\"colorbar\":{\"outlinewidth\":0,\"ticks\":\"\"}}}],\"carpet\":[{\"aaxis\":{\"endlinecolor\":\"#2a3f5f\",\"gridcolor\":\"white\",\"linecolor\":\"white\",\"minorgridcolor\":\"white\",\"startlinecolor\":\"#2a3f5f\"},\"baxis\":{\"endlinecolor\":\"#2a3f5f\",\"gridcolor\":\"white\",\"linecolor\":\"white\",\"minorgridcolor\":\"white\",\"startlinecolor\":\"#2a3f5f\"},\"type\":\"carpet\"}],\"table\":[{\"cells\":{\"fill\":{\"color\":\"#EBF0F8\"},\"line\":{\"color\":\"white\"}},\"header\":{\"fill\":{\"color\":\"#C8D4E3\"},\"line\":{\"color\":\"white\"}},\"type\":\"table\"}],\"barpolar\":[{\"marker\":{\"line\":{\"color\":\"#E5ECF6\",\"width\":0.5},\"pattern\":{\"fillmode\":\"overlay\",\"size\":10,\"solidity\":0.2}},\"type\":\"barpolar\"}],\"pie\":[{\"automargin\":true,\"type\":\"pie\"}]},\"layout\":{\"autotypenumbers\":\"strict\",\"colorway\":[\"#636efa\",\"#EF553B\",\"#00cc96\",\"#ab63fa\",\"#FFA15A\",\"#19d3f3\",\"#FF6692\",\"#B6E880\",\"#FF97FF\",\"#FECB52\"],\"font\":{\"color\":\"#2a3f5f\"},\"hovermode\":\"closest\",\"hoverlabel\":{\"align\":\"left\"},\"paper_bgcolor\":\"white\",\"plot_bgcolor\":\"#E5ECF6\",\"polar\":{\"bgcolor\":\"#E5ECF6\",\"angularaxis\":{\"gridcolor\":\"white\",\"linecolor\":\"white\",\"ticks\":\"\"},\"radialaxis\":{\"gridcolor\":\"white\",\"linecolor\":\"white\",\"ticks\":\"\"}},\"ternary\":{\"bgcolor\":\"#E5ECF6\",\"aaxis\":{\"gridcolor\":\"white\",\"linecolor\":\"white\",\"ticks\":\"\"},\"baxis\":{\"gridcolor\":\"white\",\"linecolor\":\"white\",\"ticks\":\"\"},\"caxis\":{\"gridcolor\":\"white\",\"linecolor\":\"white\",\"ticks\":\"\"}},\"coloraxis\":{\"colorbar\":{\"outlinewidth\":0,\"ticks\":\"\"}},\"colorscale\":{\"sequential\":[[0.0,\"#0d0887\"],[0.1111111111111111,\"#46039f\"],[0.2222222222222222,\"#7201a8\"],[0.3333333333333333,\"#9c179e\"],[0.4444444444444444,\"#bd3786\"],[0.5555555555555556,\"#d8576b\"],[0.6666666666666666,\"#ed7953\"],[0.7777777777777778,\"#fb9f3a\"],[0.8888888888888888,\"#fdca26\"],[1.0,\"#f0f921\"]],\"sequentialminus\":[[0.0,\"#0d0887\"],[0.1111111111111111,\"#46039f\"],[0.2222222222222222,\"#7201a8\"],[0.3333333333333333,\"#9c179e\"],[0.4444444444444444,\"#bd3786\"],[0.5555555555555556,\"#d8576b\"],[0.6666666666666666,\"#ed7953\"],[0.7777777777777778,\"#fb9f3a\"],[0.8888888888888888,\"#fdca26\"],[1.0,\"#f0f921\"]],\"diverging\":[[0,\"#8e0152\"],[0.1,\"#c51b7d\"],[0.2,\"#de77ae\"],[0.3,\"#f1b6da\"],[0.4,\"#fde0ef\"],[0.5,\"#f7f7f7\"],[0.6,\"#e6f5d0\"],[0.7,\"#b8e186\"],[0.8,\"#7fbc41\"],[0.9,\"#4d9221\"],[1,\"#276419\"]]},\"xaxis\":{\"gridcolor\":\"white\",\"linecolor\":\"white\",\"ticks\":\"\",\"title\":{\"standoff\":15},\"zerolinecolor\":\"white\",\"automargin\":true,\"zerolinewidth\":2},\"yaxis\":{\"gridcolor\":\"white\",\"linecolor\":\"white\",\"ticks\":\"\",\"title\":{\"standoff\":15},\"zerolinecolor\":\"white\",\"automargin\":true,\"zerolinewidth\":2},\"scene\":{\"xaxis\":{\"backgroundcolor\":\"#E5ECF6\",\"gridcolor\":\"white\",\"linecolor\":\"white\",\"showbackground\":true,\"ticks\":\"\",\"zerolinecolor\":\"white\",\"gridwidth\":2},\"yaxis\":{\"backgroundcolor\":\"#E5ECF6\",\"gridcolor\":\"white\",\"linecolor\":\"white\",\"showbackground\":true,\"ticks\":\"\",\"zerolinecolor\":\"white\",\"gridwidth\":2},\"zaxis\":{\"backgroundcolor\":\"#E5ECF6\",\"gridcolor\":\"white\",\"linecolor\":\"white\",\"showbackground\":true,\"ticks\":\"\",\"zerolinecolor\":\"white\",\"gridwidth\":2}},\"shapedefaults\":{\"line\":{\"color\":\"#2a3f5f\"}},\"annotationdefaults\":{\"arrowcolor\":\"#2a3f5f\",\"arrowhead\":0,\"arrowwidth\":1},\"geo\":{\"bgcolor\":\"white\",\"landcolor\":\"#E5ECF6\",\"subunitcolor\":\"white\",\"showland\":true,\"showlakes\":true,\"lakecolor\":\"white\"},\"title\":{\"x\":0.05},\"mapbox\":{\"style\":\"light\"}}}},                        {\"responsive\": true}                    ).then(function(){\n",
       "                            \n",
       "var gd = document.getElementById('180bd880-978b-4007-a98e-4c7ceea9d527');\n",
       "var x = new MutationObserver(function (mutations, observer) {{\n",
       "        var display = window.getComputedStyle(gd).display;\n",
       "        if (!display || display === 'none') {{\n",
       "            console.log([gd, 'removed!']);\n",
       "            Plotly.purge(gd);\n",
       "            observer.disconnect();\n",
       "        }}\n",
       "}});\n",
       "\n",
       "// Listen for the removal of the full notebook cells\n",
       "var notebookContainer = gd.closest('#notebook-container');\n",
       "if (notebookContainer) {{\n",
       "    x.observe(notebookContainer, {childList: true});\n",
       "}}\n",
       "\n",
       "// Listen for the clearing of the current output cell\n",
       "var outputEl = gd.closest('.output');\n",
       "if (outputEl) {{\n",
       "    x.observe(outputEl, {childList: true});\n",
       "}}\n",
       "\n",
       "                        })                };                });            </script>        </div>"
      ]
     },
     "metadata": {},
     "output_type": "display_data"
    }
   ],
   "source": [
    "fig = optuna.visualization.plot_intermediate_values(study)\n",
    "fig.show()"
   ]
  },
  {
   "cell_type": "code",
   "execution_count": 21,
   "id": "100700a8",
   "metadata": {
    "ExecuteTime": {
     "end_time": "2023-03-07T09:13:38.174052Z",
     "start_time": "2023-03-07T09:13:38.171403Z"
    },
    "scrolled": true
   },
   "outputs": [],
   "source": [
    "df = study.trials_dataframe()"
   ]
  },
  {
   "cell_type": "code",
   "execution_count": 22,
   "id": "a1fc0382",
   "metadata": {
    "ExecuteTime": {
     "end_time": "2023-03-07T09:13:38.271418Z",
     "start_time": "2023-03-07T09:13:38.261864Z"
    },
    "scrolled": true
   },
   "outputs": [
    {
     "data": {
      "text/html": [
       "<div>\n",
       "<style scoped>\n",
       "    .dataframe tbody tr th:only-of-type {\n",
       "        vertical-align: middle;\n",
       "    }\n",
       "\n",
       "    .dataframe tbody tr th {\n",
       "        vertical-align: top;\n",
       "    }\n",
       "\n",
       "    .dataframe thead th {\n",
       "        text-align: right;\n",
       "    }\n",
       "</style>\n",
       "<table border=\"1\" class=\"dataframe\">\n",
       "  <thead>\n",
       "    <tr style=\"text-align: right;\">\n",
       "      <th></th>\n",
       "      <th>number</th>\n",
       "      <th>value</th>\n",
       "      <th>datetime_start</th>\n",
       "      <th>datetime_complete</th>\n",
       "      <th>duration</th>\n",
       "      <th>params_beta_dkd</th>\n",
       "      <th>params_lambda_dkd</th>\n",
       "      <th>params_norm_dkd</th>\n",
       "      <th>params_temp_dkd</th>\n",
       "      <th>system_attrs_completed_rung_0</th>\n",
       "      <th>system_attrs_completed_rung_1</th>\n",
       "      <th>system_attrs_completed_rung_2</th>\n",
       "      <th>system_attrs_completed_rung_3</th>\n",
       "      <th>system_attrs_completed_rung_4</th>\n",
       "      <th>system_attrs_completed_rung_5</th>\n",
       "      <th>system_attrs_completed_rung_6</th>\n",
       "      <th>system_attrs_completed_rung_7</th>\n",
       "      <th>system_attrs_completed_rung_8</th>\n",
       "      <th>system_attrs_completed_rung_9</th>\n",
       "      <th>state</th>\n",
       "    </tr>\n",
       "  </thead>\n",
       "  <tbody>\n",
       "    <tr>\n",
       "      <th>0</th>\n",
       "      <td>0</td>\n",
       "      <td>0.686381</td>\n",
       "      <td>2023-03-02 10:50:43.483626</td>\n",
       "      <td>2023-03-02 17:52:58.308096</td>\n",
       "      <td>0 days 07:02:14.824470</td>\n",
       "      <td>4</td>\n",
       "      <td>0.10</td>\n",
       "      <td>space</td>\n",
       "      <td>4</td>\n",
       "      <td>NaN</td>\n",
       "      <td>NaN</td>\n",
       "      <td>NaN</td>\n",
       "      <td>NaN</td>\n",
       "      <td>NaN</td>\n",
       "      <td>NaN</td>\n",
       "      <td>NaN</td>\n",
       "      <td>NaN</td>\n",
       "      <td>NaN</td>\n",
       "      <td>NaN</td>\n",
       "      <td>COMPLETE</td>\n",
       "    </tr>\n",
       "    <tr>\n",
       "      <th>1</th>\n",
       "      <td>1</td>\n",
       "      <td>0.657196</td>\n",
       "      <td>2023-03-02 17:52:58.309442</td>\n",
       "      <td>2023-03-03 00:50:55.497440</td>\n",
       "      <td>0 days 06:57:57.187998</td>\n",
       "      <td>1</td>\n",
       "      <td>1.00</td>\n",
       "      <td>channel</td>\n",
       "      <td>4</td>\n",
       "      <td>0.419463</td>\n",
       "      <td>0.419463</td>\n",
       "      <td>0.419463</td>\n",
       "      <td>0.419463</td>\n",
       "      <td>0.419463</td>\n",
       "      <td>0.419463</td>\n",
       "      <td>0.419463</td>\n",
       "      <td>0.476694</td>\n",
       "      <td>0.513626</td>\n",
       "      <td>NaN</td>\n",
       "      <td>COMPLETE</td>\n",
       "    </tr>\n",
       "    <tr>\n",
       "      <th>2</th>\n",
       "      <td>2</td>\n",
       "      <td>0.663756</td>\n",
       "      <td>2023-03-03 00:50:55.498950</td>\n",
       "      <td>2023-03-03 07:45:20.056196</td>\n",
       "      <td>0 days 06:54:24.557246</td>\n",
       "      <td>4</td>\n",
       "      <td>0.01</td>\n",
       "      <td>channel</td>\n",
       "      <td>4</td>\n",
       "      <td>0.481499</td>\n",
       "      <td>0.481499</td>\n",
       "      <td>0.481499</td>\n",
       "      <td>0.481499</td>\n",
       "      <td>0.481499</td>\n",
       "      <td>0.481499</td>\n",
       "      <td>0.481499</td>\n",
       "      <td>0.481499</td>\n",
       "      <td>0.522142</td>\n",
       "      <td>0.543291</td>\n",
       "      <td>COMPLETE</td>\n",
       "    </tr>\n",
       "    <tr>\n",
       "      <th>3</th>\n",
       "      <td>3</td>\n",
       "      <td>0.467737</td>\n",
       "      <td>2023-03-03 07:45:20.069258</td>\n",
       "      <td>2023-03-03 08:37:40.332486</td>\n",
       "      <td>0 days 00:52:20.263228</td>\n",
       "      <td>8</td>\n",
       "      <td>0.01</td>\n",
       "      <td>space</td>\n",
       "      <td>1</td>\n",
       "      <td>0.467737</td>\n",
       "      <td>NaN</td>\n",
       "      <td>NaN</td>\n",
       "      <td>NaN</td>\n",
       "      <td>NaN</td>\n",
       "      <td>NaN</td>\n",
       "      <td>NaN</td>\n",
       "      <td>NaN</td>\n",
       "      <td>NaN</td>\n",
       "      <td>NaN</td>\n",
       "      <td>PRUNED</td>\n",
       "    </tr>\n",
       "    <tr>\n",
       "      <th>4</th>\n",
       "      <td>4</td>\n",
       "      <td>0.693752</td>\n",
       "      <td>2023-03-03 08:37:40.334497</td>\n",
       "      <td>2023-03-03 15:40:42.156678</td>\n",
       "      <td>0 days 07:03:01.822181</td>\n",
       "      <td>8</td>\n",
       "      <td>0.10</td>\n",
       "      <td>space</td>\n",
       "      <td>4</td>\n",
       "      <td>0.437809</td>\n",
       "      <td>0.437809</td>\n",
       "      <td>0.437809</td>\n",
       "      <td>0.437809</td>\n",
       "      <td>0.437809</td>\n",
       "      <td>0.527179</td>\n",
       "      <td>0.575345</td>\n",
       "      <td>NaN</td>\n",
       "      <td>NaN</td>\n",
       "      <td>NaN</td>\n",
       "      <td>COMPLETE</td>\n",
       "    </tr>\n",
       "    <tr>\n",
       "      <th>5</th>\n",
       "      <td>5</td>\n",
       "      <td>0.672673</td>\n",
       "      <td>2023-03-03 15:40:42.158457</td>\n",
       "      <td>2023-03-04 01:23:14.233310</td>\n",
       "      <td>0 days 09:42:32.074853</td>\n",
       "      <td>4</td>\n",
       "      <td>0.10</td>\n",
       "      <td>space</td>\n",
       "      <td>1</td>\n",
       "      <td>0.468298</td>\n",
       "      <td>0.468298</td>\n",
       "      <td>0.468298</td>\n",
       "      <td>0.468298</td>\n",
       "      <td>0.503643</td>\n",
       "      <td>0.506082</td>\n",
       "      <td>NaN</td>\n",
       "      <td>NaN</td>\n",
       "      <td>NaN</td>\n",
       "      <td>NaN</td>\n",
       "      <td>COMPLETE</td>\n",
       "    </tr>\n",
       "    <tr>\n",
       "      <th>6</th>\n",
       "      <td>6</td>\n",
       "      <td>0.686695</td>\n",
       "      <td>2023-03-04 01:23:14.235146</td>\n",
       "      <td>2023-03-04 08:26:50.438947</td>\n",
       "      <td>0 days 07:03:36.203801</td>\n",
       "      <td>4</td>\n",
       "      <td>0.01</td>\n",
       "      <td>space</td>\n",
       "      <td>1</td>\n",
       "      <td>0.498887</td>\n",
       "      <td>0.498887</td>\n",
       "      <td>0.498887</td>\n",
       "      <td>0.498887</td>\n",
       "      <td>0.498887</td>\n",
       "      <td>0.498887</td>\n",
       "      <td>0.498887</td>\n",
       "      <td>0.523696</td>\n",
       "      <td>0.563867</td>\n",
       "      <td>NaN</td>\n",
       "      <td>COMPLETE</td>\n",
       "    </tr>\n",
       "    <tr>\n",
       "      <th>7</th>\n",
       "      <td>7</td>\n",
       "      <td>0.712997</td>\n",
       "      <td>2023-03-04 08:26:50.440928</td>\n",
       "      <td>2023-03-04 15:24:59.973458</td>\n",
       "      <td>0 days 06:58:09.532530</td>\n",
       "      <td>8</td>\n",
       "      <td>0.10</td>\n",
       "      <td>channel</td>\n",
       "      <td>1</td>\n",
       "      <td>0.506539</td>\n",
       "      <td>0.506539</td>\n",
       "      <td>0.506539</td>\n",
       "      <td>0.506539</td>\n",
       "      <td>0.506539</td>\n",
       "      <td>0.506539</td>\n",
       "      <td>0.506539</td>\n",
       "      <td>0.506539</td>\n",
       "      <td>0.542752</td>\n",
       "      <td>0.618790</td>\n",
       "      <td>COMPLETE</td>\n",
       "    </tr>\n",
       "    <tr>\n",
       "      <th>8</th>\n",
       "      <td>8</td>\n",
       "      <td>0.378030</td>\n",
       "      <td>2023-03-04 15:24:59.975523</td>\n",
       "      <td>2023-03-04 16:16:45.412540</td>\n",
       "      <td>0 days 00:51:45.437017</td>\n",
       "      <td>4</td>\n",
       "      <td>1.00</td>\n",
       "      <td>channel</td>\n",
       "      <td>4</td>\n",
       "      <td>0.378030</td>\n",
       "      <td>NaN</td>\n",
       "      <td>NaN</td>\n",
       "      <td>NaN</td>\n",
       "      <td>NaN</td>\n",
       "      <td>NaN</td>\n",
       "      <td>NaN</td>\n",
       "      <td>NaN</td>\n",
       "      <td>NaN</td>\n",
       "      <td>NaN</td>\n",
       "      <td>PRUNED</td>\n",
       "    </tr>\n",
       "    <tr>\n",
       "      <th>9</th>\n",
       "      <td>9</td>\n",
       "      <td>0.685384</td>\n",
       "      <td>2023-03-04 16:16:45.415461</td>\n",
       "      <td>2023-03-04 23:09:22.291164</td>\n",
       "      <td>0 days 06:52:36.875703</td>\n",
       "      <td>4</td>\n",
       "      <td>0.10</td>\n",
       "      <td>space</td>\n",
       "      <td>4</td>\n",
       "      <td>0.455313</td>\n",
       "      <td>0.455313</td>\n",
       "      <td>0.455313</td>\n",
       "      <td>0.455313</td>\n",
       "      <td>0.455313</td>\n",
       "      <td>0.455313</td>\n",
       "      <td>0.504640</td>\n",
       "      <td>0.512168</td>\n",
       "      <td>NaN</td>\n",
       "      <td>NaN</td>\n",
       "      <td>COMPLETE</td>\n",
       "    </tr>\n",
       "    <tr>\n",
       "      <th>10</th>\n",
       "      <td>10</td>\n",
       "      <td>0.403031</td>\n",
       "      <td>2023-03-04 23:09:22.293473</td>\n",
       "      <td>2023-03-05 00:04:22.553877</td>\n",
       "      <td>0 days 00:55:00.260404</td>\n",
       "      <td>8</td>\n",
       "      <td>0.01</td>\n",
       "      <td>channel</td>\n",
       "      <td>1</td>\n",
       "      <td>0.403031</td>\n",
       "      <td>NaN</td>\n",
       "      <td>NaN</td>\n",
       "      <td>NaN</td>\n",
       "      <td>NaN</td>\n",
       "      <td>NaN</td>\n",
       "      <td>NaN</td>\n",
       "      <td>NaN</td>\n",
       "      <td>NaN</td>\n",
       "      <td>NaN</td>\n",
       "      <td>PRUNED</td>\n",
       "    </tr>\n",
       "    <tr>\n",
       "      <th>11</th>\n",
       "      <td>11</td>\n",
       "      <td>0.486211</td>\n",
       "      <td>2023-03-05 00:04:22.556226</td>\n",
       "      <td>2023-03-05 00:56:51.250858</td>\n",
       "      <td>0 days 00:52:28.694632</td>\n",
       "      <td>1</td>\n",
       "      <td>0.01</td>\n",
       "      <td>space</td>\n",
       "      <td>4</td>\n",
       "      <td>0.486211</td>\n",
       "      <td>NaN</td>\n",
       "      <td>NaN</td>\n",
       "      <td>NaN</td>\n",
       "      <td>NaN</td>\n",
       "      <td>NaN</td>\n",
       "      <td>NaN</td>\n",
       "      <td>NaN</td>\n",
       "      <td>NaN</td>\n",
       "      <td>NaN</td>\n",
       "      <td>PRUNED</td>\n",
       "    </tr>\n",
       "    <tr>\n",
       "      <th>12</th>\n",
       "      <td>12</td>\n",
       "      <td>0.415452</td>\n",
       "      <td>2023-03-05 00:56:51.255718</td>\n",
       "      <td>2023-03-05 01:49:20.080649</td>\n",
       "      <td>0 days 00:52:28.824931</td>\n",
       "      <td>8</td>\n",
       "      <td>1.00</td>\n",
       "      <td>space</td>\n",
       "      <td>1</td>\n",
       "      <td>0.415452</td>\n",
       "      <td>NaN</td>\n",
       "      <td>NaN</td>\n",
       "      <td>NaN</td>\n",
       "      <td>NaN</td>\n",
       "      <td>NaN</td>\n",
       "      <td>NaN</td>\n",
       "      <td>NaN</td>\n",
       "      <td>NaN</td>\n",
       "      <td>NaN</td>\n",
       "      <td>PRUNED</td>\n",
       "    </tr>\n",
       "    <tr>\n",
       "      <th>13</th>\n",
       "      <td>13</td>\n",
       "      <td>0.462141</td>\n",
       "      <td>2023-03-05 01:49:20.085193</td>\n",
       "      <td>2023-03-05 02:41:47.699629</td>\n",
       "      <td>0 days 00:52:27.614436</td>\n",
       "      <td>1</td>\n",
       "      <td>0.10</td>\n",
       "      <td>space</td>\n",
       "      <td>4</td>\n",
       "      <td>0.462141</td>\n",
       "      <td>NaN</td>\n",
       "      <td>NaN</td>\n",
       "      <td>NaN</td>\n",
       "      <td>NaN</td>\n",
       "      <td>NaN</td>\n",
       "      <td>NaN</td>\n",
       "      <td>NaN</td>\n",
       "      <td>NaN</td>\n",
       "      <td>NaN</td>\n",
       "      <td>PRUNED</td>\n",
       "    </tr>\n",
       "    <tr>\n",
       "      <th>14</th>\n",
       "      <td>14</td>\n",
       "      <td>0.675813</td>\n",
       "      <td>2023-03-05 02:41:47.702444</td>\n",
       "      <td>2023-03-05 09:41:52.306892</td>\n",
       "      <td>0 days 07:00:04.604448</td>\n",
       "      <td>4</td>\n",
       "      <td>0.01</td>\n",
       "      <td>channel</td>\n",
       "      <td>1</td>\n",
       "      <td>0.517136</td>\n",
       "      <td>0.517136</td>\n",
       "      <td>0.517136</td>\n",
       "      <td>0.517136</td>\n",
       "      <td>0.517136</td>\n",
       "      <td>0.517136</td>\n",
       "      <td>0.538045</td>\n",
       "      <td>0.550063</td>\n",
       "      <td>NaN</td>\n",
       "      <td>NaN</td>\n",
       "      <td>COMPLETE</td>\n",
       "    </tr>\n",
       "    <tr>\n",
       "      <th>15</th>\n",
       "      <td>15</td>\n",
       "      <td>0.479686</td>\n",
       "      <td>2023-03-05 09:41:52.309638</td>\n",
       "      <td>2023-03-05 10:34:53.025819</td>\n",
       "      <td>0 days 00:53:00.716181</td>\n",
       "      <td>4</td>\n",
       "      <td>0.01</td>\n",
       "      <td>space</td>\n",
       "      <td>1</td>\n",
       "      <td>0.479686</td>\n",
       "      <td>NaN</td>\n",
       "      <td>NaN</td>\n",
       "      <td>NaN</td>\n",
       "      <td>NaN</td>\n",
       "      <td>NaN</td>\n",
       "      <td>NaN</td>\n",
       "      <td>NaN</td>\n",
       "      <td>NaN</td>\n",
       "      <td>NaN</td>\n",
       "      <td>PRUNED</td>\n",
       "    </tr>\n",
       "    <tr>\n",
       "      <th>16</th>\n",
       "      <td>16</td>\n",
       "      <td>0.499015</td>\n",
       "      <td>2023-03-05 10:34:53.028921</td>\n",
       "      <td>2023-03-05 11:30:53.945499</td>\n",
       "      <td>0 days 00:56:00.916578</td>\n",
       "      <td>8</td>\n",
       "      <td>0.10</td>\n",
       "      <td>channel</td>\n",
       "      <td>1</td>\n",
       "      <td>0.499015</td>\n",
       "      <td>0.499015</td>\n",
       "      <td>NaN</td>\n",
       "      <td>NaN</td>\n",
       "      <td>NaN</td>\n",
       "      <td>NaN</td>\n",
       "      <td>NaN</td>\n",
       "      <td>NaN</td>\n",
       "      <td>NaN</td>\n",
       "      <td>NaN</td>\n",
       "      <td>PRUNED</td>\n",
       "    </tr>\n",
       "    <tr>\n",
       "      <th>17</th>\n",
       "      <td>17</td>\n",
       "      <td>0.472551</td>\n",
       "      <td>2023-03-05 11:30:53.948556</td>\n",
       "      <td>2023-03-05 12:23:24.840275</td>\n",
       "      <td>0 days 00:52:30.891719</td>\n",
       "      <td>8</td>\n",
       "      <td>0.10</td>\n",
       "      <td>space</td>\n",
       "      <td>1</td>\n",
       "      <td>0.472551</td>\n",
       "      <td>NaN</td>\n",
       "      <td>NaN</td>\n",
       "      <td>NaN</td>\n",
       "      <td>NaN</td>\n",
       "      <td>NaN</td>\n",
       "      <td>NaN</td>\n",
       "      <td>NaN</td>\n",
       "      <td>NaN</td>\n",
       "      <td>NaN</td>\n",
       "      <td>PRUNED</td>\n",
       "    </tr>\n",
       "    <tr>\n",
       "      <th>18</th>\n",
       "      <td>18</td>\n",
       "      <td>0.517738</td>\n",
       "      <td>2023-03-05 12:23:24.844809</td>\n",
       "      <td>2023-03-05 14:08:23.627682</td>\n",
       "      <td>0 days 01:44:58.782873</td>\n",
       "      <td>4</td>\n",
       "      <td>0.01</td>\n",
       "      <td>space</td>\n",
       "      <td>1</td>\n",
       "      <td>0.516282</td>\n",
       "      <td>0.516282</td>\n",
       "      <td>0.516282</td>\n",
       "      <td>0.516282</td>\n",
       "      <td>0.516282</td>\n",
       "      <td>0.516282</td>\n",
       "      <td>0.516282</td>\n",
       "      <td>0.516282</td>\n",
       "      <td>0.517738</td>\n",
       "      <td>NaN</td>\n",
       "      <td>PRUNED</td>\n",
       "    </tr>\n",
       "    <tr>\n",
       "      <th>19</th>\n",
       "      <td>19</td>\n",
       "      <td>0.467169</td>\n",
       "      <td>2023-03-05 14:08:23.631645</td>\n",
       "      <td>2023-03-05 15:00:48.522165</td>\n",
       "      <td>0 days 00:52:24.890520</td>\n",
       "      <td>8</td>\n",
       "      <td>0.10</td>\n",
       "      <td>channel</td>\n",
       "      <td>4</td>\n",
       "      <td>0.467169</td>\n",
       "      <td>NaN</td>\n",
       "      <td>NaN</td>\n",
       "      <td>NaN</td>\n",
       "      <td>NaN</td>\n",
       "      <td>NaN</td>\n",
       "      <td>NaN</td>\n",
       "      <td>NaN</td>\n",
       "      <td>NaN</td>\n",
       "      <td>NaN</td>\n",
       "      <td>PRUNED</td>\n",
       "    </tr>\n",
       "    <tr>\n",
       "      <th>20</th>\n",
       "      <td>20</td>\n",
       "      <td>0.499783</td>\n",
       "      <td>2023-03-05 15:00:48.526834</td>\n",
       "      <td>2023-03-05 15:55:51.450665</td>\n",
       "      <td>0 days 00:55:02.923831</td>\n",
       "      <td>4</td>\n",
       "      <td>0.01</td>\n",
       "      <td>space</td>\n",
       "      <td>4</td>\n",
       "      <td>0.499783</td>\n",
       "      <td>0.499783</td>\n",
       "      <td>NaN</td>\n",
       "      <td>NaN</td>\n",
       "      <td>NaN</td>\n",
       "      <td>NaN</td>\n",
       "      <td>NaN</td>\n",
       "      <td>NaN</td>\n",
       "      <td>NaN</td>\n",
       "      <td>NaN</td>\n",
       "      <td>PRUNED</td>\n",
       "    </tr>\n",
       "    <tr>\n",
       "      <th>21</th>\n",
       "      <td>21</td>\n",
       "      <td>0.490915</td>\n",
       "      <td>2023-03-05 15:55:51.479313</td>\n",
       "      <td>2023-03-05 16:48:55.419292</td>\n",
       "      <td>0 days 00:53:03.939979</td>\n",
       "      <td>1</td>\n",
       "      <td>1.00</td>\n",
       "      <td>channel</td>\n",
       "      <td>1</td>\n",
       "      <td>0.490915</td>\n",
       "      <td>NaN</td>\n",
       "      <td>NaN</td>\n",
       "      <td>NaN</td>\n",
       "      <td>NaN</td>\n",
       "      <td>NaN</td>\n",
       "      <td>NaN</td>\n",
       "      <td>NaN</td>\n",
       "      <td>NaN</td>\n",
       "      <td>NaN</td>\n",
       "      <td>PRUNED</td>\n",
       "    </tr>\n",
       "    <tr>\n",
       "      <th>22</th>\n",
       "      <td>22</td>\n",
       "      <td>0.387268</td>\n",
       "      <td>2023-03-05 16:48:55.422653</td>\n",
       "      <td>2023-03-05 17:42:01.721798</td>\n",
       "      <td>0 days 00:53:06.299145</td>\n",
       "      <td>4</td>\n",
       "      <td>1.00</td>\n",
       "      <td>space</td>\n",
       "      <td>4</td>\n",
       "      <td>0.387268</td>\n",
       "      <td>NaN</td>\n",
       "      <td>NaN</td>\n",
       "      <td>NaN</td>\n",
       "      <td>NaN</td>\n",
       "      <td>NaN</td>\n",
       "      <td>NaN</td>\n",
       "      <td>NaN</td>\n",
       "      <td>NaN</td>\n",
       "      <td>NaN</td>\n",
       "      <td>PRUNED</td>\n",
       "    </tr>\n",
       "    <tr>\n",
       "      <th>23</th>\n",
       "      <td>23</td>\n",
       "      <td>0.444455</td>\n",
       "      <td>2023-03-05 17:42:01.726385</td>\n",
       "      <td>2023-03-05 18:35:03.236055</td>\n",
       "      <td>0 days 00:53:01.509670</td>\n",
       "      <td>1</td>\n",
       "      <td>0.10</td>\n",
       "      <td>channel</td>\n",
       "      <td>4</td>\n",
       "      <td>0.444455</td>\n",
       "      <td>NaN</td>\n",
       "      <td>NaN</td>\n",
       "      <td>NaN</td>\n",
       "      <td>NaN</td>\n",
       "      <td>NaN</td>\n",
       "      <td>NaN</td>\n",
       "      <td>NaN</td>\n",
       "      <td>NaN</td>\n",
       "      <td>NaN</td>\n",
       "      <td>PRUNED</td>\n",
       "    </tr>\n",
       "    <tr>\n",
       "      <th>24</th>\n",
       "      <td>24</td>\n",
       "      <td>0.719768</td>\n",
       "      <td>2023-03-05 18:35:03.390228</td>\n",
       "      <td>2023-03-06 01:38:50.079634</td>\n",
       "      <td>0 days 07:03:46.689406</td>\n",
       "      <td>4</td>\n",
       "      <td>1.00</td>\n",
       "      <td>channel</td>\n",
       "      <td>1</td>\n",
       "      <td>0.541861</td>\n",
       "      <td>0.541861</td>\n",
       "      <td>0.541861</td>\n",
       "      <td>0.541861</td>\n",
       "      <td>0.541861</td>\n",
       "      <td>0.541861</td>\n",
       "      <td>0.541861</td>\n",
       "      <td>0.588211</td>\n",
       "      <td>0.616610</td>\n",
       "      <td>NaN</td>\n",
       "      <td>COMPLETE</td>\n",
       "    </tr>\n",
       "    <tr>\n",
       "      <th>25</th>\n",
       "      <td>25</td>\n",
       "      <td>0.452280</td>\n",
       "      <td>2023-03-06 01:38:50.083221</td>\n",
       "      <td>2023-03-06 02:31:52.196433</td>\n",
       "      <td>0 days 00:53:02.113212</td>\n",
       "      <td>8</td>\n",
       "      <td>0.10</td>\n",
       "      <td>space</td>\n",
       "      <td>4</td>\n",
       "      <td>0.452280</td>\n",
       "      <td>NaN</td>\n",
       "      <td>NaN</td>\n",
       "      <td>NaN</td>\n",
       "      <td>NaN</td>\n",
       "      <td>NaN</td>\n",
       "      <td>NaN</td>\n",
       "      <td>NaN</td>\n",
       "      <td>NaN</td>\n",
       "      <td>NaN</td>\n",
       "      <td>PRUNED</td>\n",
       "    </tr>\n",
       "    <tr>\n",
       "      <th>26</th>\n",
       "      <td>26</td>\n",
       "      <td>0.486793</td>\n",
       "      <td>2023-03-06 02:31:52.200861</td>\n",
       "      <td>2023-03-06 03:24:56.247182</td>\n",
       "      <td>0 days 00:53:04.046321</td>\n",
       "      <td>8</td>\n",
       "      <td>0.01</td>\n",
       "      <td>channel</td>\n",
       "      <td>1</td>\n",
       "      <td>0.486793</td>\n",
       "      <td>0.486793</td>\n",
       "      <td>NaN</td>\n",
       "      <td>NaN</td>\n",
       "      <td>NaN</td>\n",
       "      <td>NaN</td>\n",
       "      <td>NaN</td>\n",
       "      <td>NaN</td>\n",
       "      <td>NaN</td>\n",
       "      <td>NaN</td>\n",
       "      <td>PRUNED</td>\n",
       "    </tr>\n",
       "    <tr>\n",
       "      <th>27</th>\n",
       "      <td>27</td>\n",
       "      <td>0.440752</td>\n",
       "      <td>2023-03-06 03:24:56.251142</td>\n",
       "      <td>2023-03-06 04:19:58.402098</td>\n",
       "      <td>0 days 00:55:02.150956</td>\n",
       "      <td>4</td>\n",
       "      <td>0.01</td>\n",
       "      <td>channel</td>\n",
       "      <td>1</td>\n",
       "      <td>0.440752</td>\n",
       "      <td>NaN</td>\n",
       "      <td>NaN</td>\n",
       "      <td>NaN</td>\n",
       "      <td>NaN</td>\n",
       "      <td>NaN</td>\n",
       "      <td>NaN</td>\n",
       "      <td>NaN</td>\n",
       "      <td>NaN</td>\n",
       "      <td>NaN</td>\n",
       "      <td>PRUNED</td>\n",
       "    </tr>\n",
       "    <tr>\n",
       "      <th>28</th>\n",
       "      <td>28</td>\n",
       "      <td>0.423723</td>\n",
       "      <td>2023-03-06 04:21:58.634815</td>\n",
       "      <td>2023-03-06 05:14:57.420918</td>\n",
       "      <td>0 days 00:52:58.786103</td>\n",
       "      <td>4</td>\n",
       "      <td>0.10</td>\n",
       "      <td>channel</td>\n",
       "      <td>4</td>\n",
       "      <td>0.423723</td>\n",
       "      <td>NaN</td>\n",
       "      <td>NaN</td>\n",
       "      <td>NaN</td>\n",
       "      <td>NaN</td>\n",
       "      <td>NaN</td>\n",
       "      <td>NaN</td>\n",
       "      <td>NaN</td>\n",
       "      <td>NaN</td>\n",
       "      <td>NaN</td>\n",
       "      <td>PRUNED</td>\n",
       "    </tr>\n",
       "    <tr>\n",
       "      <th>29</th>\n",
       "      <td>29</td>\n",
       "      <td>0.479213</td>\n",
       "      <td>2023-03-06 05:14:57.426560</td>\n",
       "      <td>2023-03-06 06:07:58.259642</td>\n",
       "      <td>0 days 00:53:00.833082</td>\n",
       "      <td>1</td>\n",
       "      <td>0.10</td>\n",
       "      <td>space</td>\n",
       "      <td>4</td>\n",
       "      <td>0.479213</td>\n",
       "      <td>NaN</td>\n",
       "      <td>NaN</td>\n",
       "      <td>NaN</td>\n",
       "      <td>NaN</td>\n",
       "      <td>NaN</td>\n",
       "      <td>NaN</td>\n",
       "      <td>NaN</td>\n",
       "      <td>NaN</td>\n",
       "      <td>NaN</td>\n",
       "      <td>PRUNED</td>\n",
       "    </tr>\n",
       "    <tr>\n",
       "      <th>30</th>\n",
       "      <td>30</td>\n",
       "      <td>0.492003</td>\n",
       "      <td>2023-03-06 06:07:58.263883</td>\n",
       "      <td>2023-03-06 07:00:58.540302</td>\n",
       "      <td>0 days 00:53:00.276419</td>\n",
       "      <td>8</td>\n",
       "      <td>0.01</td>\n",
       "      <td>space</td>\n",
       "      <td>4</td>\n",
       "      <td>0.492003</td>\n",
       "      <td>0.492003</td>\n",
       "      <td>NaN</td>\n",
       "      <td>NaN</td>\n",
       "      <td>NaN</td>\n",
       "      <td>NaN</td>\n",
       "      <td>NaN</td>\n",
       "      <td>NaN</td>\n",
       "      <td>NaN</td>\n",
       "      <td>NaN</td>\n",
       "      <td>PRUNED</td>\n",
       "    </tr>\n",
       "    <tr>\n",
       "      <th>31</th>\n",
       "      <td>31</td>\n",
       "      <td>0.536066</td>\n",
       "      <td>2023-03-06 07:00:58.545877</td>\n",
       "      <td>2023-03-06 11:23:56.758559</td>\n",
       "      <td>0 days 04:22:58.212682</td>\n",
       "      <td>1</td>\n",
       "      <td>0.01</td>\n",
       "      <td>space</td>\n",
       "      <td>4</td>\n",
       "      <td>0.493470</td>\n",
       "      <td>0.493470</td>\n",
       "      <td>0.493470</td>\n",
       "      <td>0.493470</td>\n",
       "      <td>0.493470</td>\n",
       "      <td>0.538001</td>\n",
       "      <td>0.536066</td>\n",
       "      <td>NaN</td>\n",
       "      <td>NaN</td>\n",
       "      <td>NaN</td>\n",
       "      <td>PRUNED</td>\n",
       "    </tr>\n",
       "    <tr>\n",
       "      <th>32</th>\n",
       "      <td>32</td>\n",
       "      <td>0.579298</td>\n",
       "      <td>2023-03-06 11:23:56.907557</td>\n",
       "      <td>2023-03-06 22:42:47.055533</td>\n",
       "      <td>0 days 11:18:50.147976</td>\n",
       "      <td>4</td>\n",
       "      <td>1.00</td>\n",
       "      <td>channel</td>\n",
       "      <td>1</td>\n",
       "      <td>0.545084</td>\n",
       "      <td>0.545084</td>\n",
       "      <td>0.545084</td>\n",
       "      <td>0.545084</td>\n",
       "      <td>0.545084</td>\n",
       "      <td>0.545084</td>\n",
       "      <td>0.545084</td>\n",
       "      <td>0.579298</td>\n",
       "      <td>NaN</td>\n",
       "      <td>NaN</td>\n",
       "      <td>PRUNED</td>\n",
       "    </tr>\n",
       "    <tr>\n",
       "      <th>33</th>\n",
       "      <td>33</td>\n",
       "      <td>0.479613</td>\n",
       "      <td>2023-03-06 22:42:47.060124</td>\n",
       "      <td>2023-03-07 06:10:29.912504</td>\n",
       "      <td>0 days 07:27:42.852380</td>\n",
       "      <td>4</td>\n",
       "      <td>0.10</td>\n",
       "      <td>channel</td>\n",
       "      <td>1</td>\n",
       "      <td>0.479613</td>\n",
       "      <td>NaN</td>\n",
       "      <td>NaN</td>\n",
       "      <td>NaN</td>\n",
       "      <td>NaN</td>\n",
       "      <td>NaN</td>\n",
       "      <td>NaN</td>\n",
       "      <td>NaN</td>\n",
       "      <td>NaN</td>\n",
       "      <td>NaN</td>\n",
       "      <td>PRUNED</td>\n",
       "    </tr>\n",
       "  </tbody>\n",
       "</table>\n",
       "</div>"
      ],
      "text/plain": [
       "    number     value             datetime_start          datetime_complete  \\\n",
       "0        0  0.686381 2023-03-02 10:50:43.483626 2023-03-02 17:52:58.308096   \n",
       "1        1  0.657196 2023-03-02 17:52:58.309442 2023-03-03 00:50:55.497440   \n",
       "2        2  0.663756 2023-03-03 00:50:55.498950 2023-03-03 07:45:20.056196   \n",
       "3        3  0.467737 2023-03-03 07:45:20.069258 2023-03-03 08:37:40.332486   \n",
       "4        4  0.693752 2023-03-03 08:37:40.334497 2023-03-03 15:40:42.156678   \n",
       "5        5  0.672673 2023-03-03 15:40:42.158457 2023-03-04 01:23:14.233310   \n",
       "6        6  0.686695 2023-03-04 01:23:14.235146 2023-03-04 08:26:50.438947   \n",
       "7        7  0.712997 2023-03-04 08:26:50.440928 2023-03-04 15:24:59.973458   \n",
       "8        8  0.378030 2023-03-04 15:24:59.975523 2023-03-04 16:16:45.412540   \n",
       "9        9  0.685384 2023-03-04 16:16:45.415461 2023-03-04 23:09:22.291164   \n",
       "10      10  0.403031 2023-03-04 23:09:22.293473 2023-03-05 00:04:22.553877   \n",
       "11      11  0.486211 2023-03-05 00:04:22.556226 2023-03-05 00:56:51.250858   \n",
       "12      12  0.415452 2023-03-05 00:56:51.255718 2023-03-05 01:49:20.080649   \n",
       "13      13  0.462141 2023-03-05 01:49:20.085193 2023-03-05 02:41:47.699629   \n",
       "14      14  0.675813 2023-03-05 02:41:47.702444 2023-03-05 09:41:52.306892   \n",
       "15      15  0.479686 2023-03-05 09:41:52.309638 2023-03-05 10:34:53.025819   \n",
       "16      16  0.499015 2023-03-05 10:34:53.028921 2023-03-05 11:30:53.945499   \n",
       "17      17  0.472551 2023-03-05 11:30:53.948556 2023-03-05 12:23:24.840275   \n",
       "18      18  0.517738 2023-03-05 12:23:24.844809 2023-03-05 14:08:23.627682   \n",
       "19      19  0.467169 2023-03-05 14:08:23.631645 2023-03-05 15:00:48.522165   \n",
       "20      20  0.499783 2023-03-05 15:00:48.526834 2023-03-05 15:55:51.450665   \n",
       "21      21  0.490915 2023-03-05 15:55:51.479313 2023-03-05 16:48:55.419292   \n",
       "22      22  0.387268 2023-03-05 16:48:55.422653 2023-03-05 17:42:01.721798   \n",
       "23      23  0.444455 2023-03-05 17:42:01.726385 2023-03-05 18:35:03.236055   \n",
       "24      24  0.719768 2023-03-05 18:35:03.390228 2023-03-06 01:38:50.079634   \n",
       "25      25  0.452280 2023-03-06 01:38:50.083221 2023-03-06 02:31:52.196433   \n",
       "26      26  0.486793 2023-03-06 02:31:52.200861 2023-03-06 03:24:56.247182   \n",
       "27      27  0.440752 2023-03-06 03:24:56.251142 2023-03-06 04:19:58.402098   \n",
       "28      28  0.423723 2023-03-06 04:21:58.634815 2023-03-06 05:14:57.420918   \n",
       "29      29  0.479213 2023-03-06 05:14:57.426560 2023-03-06 06:07:58.259642   \n",
       "30      30  0.492003 2023-03-06 06:07:58.263883 2023-03-06 07:00:58.540302   \n",
       "31      31  0.536066 2023-03-06 07:00:58.545877 2023-03-06 11:23:56.758559   \n",
       "32      32  0.579298 2023-03-06 11:23:56.907557 2023-03-06 22:42:47.055533   \n",
       "33      33  0.479613 2023-03-06 22:42:47.060124 2023-03-07 06:10:29.912504   \n",
       "\n",
       "                 duration  params_beta_dkd  params_lambda_dkd params_norm_dkd  \\\n",
       "0  0 days 07:02:14.824470                4               0.10           space   \n",
       "1  0 days 06:57:57.187998                1               1.00         channel   \n",
       "2  0 days 06:54:24.557246                4               0.01         channel   \n",
       "3  0 days 00:52:20.263228                8               0.01           space   \n",
       "4  0 days 07:03:01.822181                8               0.10           space   \n",
       "5  0 days 09:42:32.074853                4               0.10           space   \n",
       "6  0 days 07:03:36.203801                4               0.01           space   \n",
       "7  0 days 06:58:09.532530                8               0.10         channel   \n",
       "8  0 days 00:51:45.437017                4               1.00         channel   \n",
       "9  0 days 06:52:36.875703                4               0.10           space   \n",
       "10 0 days 00:55:00.260404                8               0.01         channel   \n",
       "11 0 days 00:52:28.694632                1               0.01           space   \n",
       "12 0 days 00:52:28.824931                8               1.00           space   \n",
       "13 0 days 00:52:27.614436                1               0.10           space   \n",
       "14 0 days 07:00:04.604448                4               0.01         channel   \n",
       "15 0 days 00:53:00.716181                4               0.01           space   \n",
       "16 0 days 00:56:00.916578                8               0.10         channel   \n",
       "17 0 days 00:52:30.891719                8               0.10           space   \n",
       "18 0 days 01:44:58.782873                4               0.01           space   \n",
       "19 0 days 00:52:24.890520                8               0.10         channel   \n",
       "20 0 days 00:55:02.923831                4               0.01           space   \n",
       "21 0 days 00:53:03.939979                1               1.00         channel   \n",
       "22 0 days 00:53:06.299145                4               1.00           space   \n",
       "23 0 days 00:53:01.509670                1               0.10         channel   \n",
       "24 0 days 07:03:46.689406                4               1.00         channel   \n",
       "25 0 days 00:53:02.113212                8               0.10           space   \n",
       "26 0 days 00:53:04.046321                8               0.01         channel   \n",
       "27 0 days 00:55:02.150956                4               0.01         channel   \n",
       "28 0 days 00:52:58.786103                4               0.10         channel   \n",
       "29 0 days 00:53:00.833082                1               0.10           space   \n",
       "30 0 days 00:53:00.276419                8               0.01           space   \n",
       "31 0 days 04:22:58.212682                1               0.01           space   \n",
       "32 0 days 11:18:50.147976                4               1.00         channel   \n",
       "33 0 days 07:27:42.852380                4               0.10         channel   \n",
       "\n",
       "    params_temp_dkd  system_attrs_completed_rung_0  \\\n",
       "0                 4                            NaN   \n",
       "1                 4                       0.419463   \n",
       "2                 4                       0.481499   \n",
       "3                 1                       0.467737   \n",
       "4                 4                       0.437809   \n",
       "5                 1                       0.468298   \n",
       "6                 1                       0.498887   \n",
       "7                 1                       0.506539   \n",
       "8                 4                       0.378030   \n",
       "9                 4                       0.455313   \n",
       "10                1                       0.403031   \n",
       "11                4                       0.486211   \n",
       "12                1                       0.415452   \n",
       "13                4                       0.462141   \n",
       "14                1                       0.517136   \n",
       "15                1                       0.479686   \n",
       "16                1                       0.499015   \n",
       "17                1                       0.472551   \n",
       "18                1                       0.516282   \n",
       "19                4                       0.467169   \n",
       "20                4                       0.499783   \n",
       "21                1                       0.490915   \n",
       "22                4                       0.387268   \n",
       "23                4                       0.444455   \n",
       "24                1                       0.541861   \n",
       "25                4                       0.452280   \n",
       "26                1                       0.486793   \n",
       "27                1                       0.440752   \n",
       "28                4                       0.423723   \n",
       "29                4                       0.479213   \n",
       "30                4                       0.492003   \n",
       "31                4                       0.493470   \n",
       "32                1                       0.545084   \n",
       "33                1                       0.479613   \n",
       "\n",
       "    system_attrs_completed_rung_1  system_attrs_completed_rung_2  \\\n",
       "0                             NaN                            NaN   \n",
       "1                        0.419463                       0.419463   \n",
       "2                        0.481499                       0.481499   \n",
       "3                             NaN                            NaN   \n",
       "4                        0.437809                       0.437809   \n",
       "5                        0.468298                       0.468298   \n",
       "6                        0.498887                       0.498887   \n",
       "7                        0.506539                       0.506539   \n",
       "8                             NaN                            NaN   \n",
       "9                        0.455313                       0.455313   \n",
       "10                            NaN                            NaN   \n",
       "11                            NaN                            NaN   \n",
       "12                            NaN                            NaN   \n",
       "13                            NaN                            NaN   \n",
       "14                       0.517136                       0.517136   \n",
       "15                            NaN                            NaN   \n",
       "16                       0.499015                            NaN   \n",
       "17                            NaN                            NaN   \n",
       "18                       0.516282                       0.516282   \n",
       "19                            NaN                            NaN   \n",
       "20                       0.499783                            NaN   \n",
       "21                            NaN                            NaN   \n",
       "22                            NaN                            NaN   \n",
       "23                            NaN                            NaN   \n",
       "24                       0.541861                       0.541861   \n",
       "25                            NaN                            NaN   \n",
       "26                       0.486793                            NaN   \n",
       "27                            NaN                            NaN   \n",
       "28                            NaN                            NaN   \n",
       "29                            NaN                            NaN   \n",
       "30                       0.492003                            NaN   \n",
       "31                       0.493470                       0.493470   \n",
       "32                       0.545084                       0.545084   \n",
       "33                            NaN                            NaN   \n",
       "\n",
       "    system_attrs_completed_rung_3  system_attrs_completed_rung_4  \\\n",
       "0                             NaN                            NaN   \n",
       "1                        0.419463                       0.419463   \n",
       "2                        0.481499                       0.481499   \n",
       "3                             NaN                            NaN   \n",
       "4                        0.437809                       0.437809   \n",
       "5                        0.468298                       0.503643   \n",
       "6                        0.498887                       0.498887   \n",
       "7                        0.506539                       0.506539   \n",
       "8                             NaN                            NaN   \n",
       "9                        0.455313                       0.455313   \n",
       "10                            NaN                            NaN   \n",
       "11                            NaN                            NaN   \n",
       "12                            NaN                            NaN   \n",
       "13                            NaN                            NaN   \n",
       "14                       0.517136                       0.517136   \n",
       "15                            NaN                            NaN   \n",
       "16                            NaN                            NaN   \n",
       "17                            NaN                            NaN   \n",
       "18                       0.516282                       0.516282   \n",
       "19                            NaN                            NaN   \n",
       "20                            NaN                            NaN   \n",
       "21                            NaN                            NaN   \n",
       "22                            NaN                            NaN   \n",
       "23                            NaN                            NaN   \n",
       "24                       0.541861                       0.541861   \n",
       "25                            NaN                            NaN   \n",
       "26                            NaN                            NaN   \n",
       "27                            NaN                            NaN   \n",
       "28                            NaN                            NaN   \n",
       "29                            NaN                            NaN   \n",
       "30                            NaN                            NaN   \n",
       "31                       0.493470                       0.493470   \n",
       "32                       0.545084                       0.545084   \n",
       "33                            NaN                            NaN   \n",
       "\n",
       "    system_attrs_completed_rung_5  system_attrs_completed_rung_6  \\\n",
       "0                             NaN                            NaN   \n",
       "1                        0.419463                       0.419463   \n",
       "2                        0.481499                       0.481499   \n",
       "3                             NaN                            NaN   \n",
       "4                        0.527179                       0.575345   \n",
       "5                        0.506082                            NaN   \n",
       "6                        0.498887                       0.498887   \n",
       "7                        0.506539                       0.506539   \n",
       "8                             NaN                            NaN   \n",
       "9                        0.455313                       0.504640   \n",
       "10                            NaN                            NaN   \n",
       "11                            NaN                            NaN   \n",
       "12                            NaN                            NaN   \n",
       "13                            NaN                            NaN   \n",
       "14                       0.517136                       0.538045   \n",
       "15                            NaN                            NaN   \n",
       "16                            NaN                            NaN   \n",
       "17                            NaN                            NaN   \n",
       "18                       0.516282                       0.516282   \n",
       "19                            NaN                            NaN   \n",
       "20                            NaN                            NaN   \n",
       "21                            NaN                            NaN   \n",
       "22                            NaN                            NaN   \n",
       "23                            NaN                            NaN   \n",
       "24                       0.541861                       0.541861   \n",
       "25                            NaN                            NaN   \n",
       "26                            NaN                            NaN   \n",
       "27                            NaN                            NaN   \n",
       "28                            NaN                            NaN   \n",
       "29                            NaN                            NaN   \n",
       "30                            NaN                            NaN   \n",
       "31                       0.538001                       0.536066   \n",
       "32                       0.545084                       0.545084   \n",
       "33                            NaN                            NaN   \n",
       "\n",
       "    system_attrs_completed_rung_7  system_attrs_completed_rung_8  \\\n",
       "0                             NaN                            NaN   \n",
       "1                        0.476694                       0.513626   \n",
       "2                        0.481499                       0.522142   \n",
       "3                             NaN                            NaN   \n",
       "4                             NaN                            NaN   \n",
       "5                             NaN                            NaN   \n",
       "6                        0.523696                       0.563867   \n",
       "7                        0.506539                       0.542752   \n",
       "8                             NaN                            NaN   \n",
       "9                        0.512168                            NaN   \n",
       "10                            NaN                            NaN   \n",
       "11                            NaN                            NaN   \n",
       "12                            NaN                            NaN   \n",
       "13                            NaN                            NaN   \n",
       "14                       0.550063                            NaN   \n",
       "15                            NaN                            NaN   \n",
       "16                            NaN                            NaN   \n",
       "17                            NaN                            NaN   \n",
       "18                       0.516282                       0.517738   \n",
       "19                            NaN                            NaN   \n",
       "20                            NaN                            NaN   \n",
       "21                            NaN                            NaN   \n",
       "22                            NaN                            NaN   \n",
       "23                            NaN                            NaN   \n",
       "24                       0.588211                       0.616610   \n",
       "25                            NaN                            NaN   \n",
       "26                            NaN                            NaN   \n",
       "27                            NaN                            NaN   \n",
       "28                            NaN                            NaN   \n",
       "29                            NaN                            NaN   \n",
       "30                            NaN                            NaN   \n",
       "31                            NaN                            NaN   \n",
       "32                       0.579298                            NaN   \n",
       "33                            NaN                            NaN   \n",
       "\n",
       "    system_attrs_completed_rung_9     state  \n",
       "0                             NaN  COMPLETE  \n",
       "1                             NaN  COMPLETE  \n",
       "2                        0.543291  COMPLETE  \n",
       "3                             NaN    PRUNED  \n",
       "4                             NaN  COMPLETE  \n",
       "5                             NaN  COMPLETE  \n",
       "6                             NaN  COMPLETE  \n",
       "7                        0.618790  COMPLETE  \n",
       "8                             NaN    PRUNED  \n",
       "9                             NaN  COMPLETE  \n",
       "10                            NaN    PRUNED  \n",
       "11                            NaN    PRUNED  \n",
       "12                            NaN    PRUNED  \n",
       "13                            NaN    PRUNED  \n",
       "14                            NaN  COMPLETE  \n",
       "15                            NaN    PRUNED  \n",
       "16                            NaN    PRUNED  \n",
       "17                            NaN    PRUNED  \n",
       "18                            NaN    PRUNED  \n",
       "19                            NaN    PRUNED  \n",
       "20                            NaN    PRUNED  \n",
       "21                            NaN    PRUNED  \n",
       "22                            NaN    PRUNED  \n",
       "23                            NaN    PRUNED  \n",
       "24                            NaN  COMPLETE  \n",
       "25                            NaN    PRUNED  \n",
       "26                            NaN    PRUNED  \n",
       "27                            NaN    PRUNED  \n",
       "28                            NaN    PRUNED  \n",
       "29                            NaN    PRUNED  \n",
       "30                            NaN    PRUNED  \n",
       "31                            NaN    PRUNED  \n",
       "32                            NaN    PRUNED  \n",
       "33                            NaN    PRUNED  "
      ]
     },
     "execution_count": 22,
     "metadata": {},
     "output_type": "execute_result"
    }
   ],
   "source": [
    "df"
   ]
  },
  {
   "cell_type": "markdown",
   "id": "24326cf9",
   "metadata": {
    "heading_collapsed": true
   },
   "source": [
    "# Overall"
   ]
  },
  {
   "cell_type": "code",
   "execution_count": null,
   "id": "7e87eae5",
   "metadata": {
    "ExecuteTime": {
     "end_time": "2023-01-09T09:42:00.179124Z",
     "start_time": "2023-01-09T09:42:00.081051Z"
    },
    "hidden": true
   },
   "outputs": [],
   "source": [
    "study_all = joblib.load(\"grid_search/study_srgan_small_all.pkl\")\n",
    "print(\"Best trial until now:\")\n",
    "print(\" Value: \", study_all.best_trial.value)\n",
    "print(\" Params: \")\n",
    "for key, value in study_all.best_trial.params.items():\n",
    "    print(f\"   {key}: {value}\")\n",
    "    "
   ]
  },
  {
   "cell_type": "code",
   "execution_count": null,
   "id": "c22fa2a4",
   "metadata": {
    "ExecuteTime": {
     "end_time": "2022-07-07T09:16:07.144413Z",
     "start_time": "2022-07-07T09:16:07.137851Z"
    },
    "hidden": true,
    "scrolled": true
   },
   "outputs": [],
   "source": [
    "study_all.add_trials(study.get_trials())"
   ]
  },
  {
   "cell_type": "code",
   "execution_count": null,
   "id": "b450d61d",
   "metadata": {
    "ExecuteTime": {
     "end_time": "2022-07-07T09:16:08.821578Z",
     "start_time": "2022-07-07T09:16:08.766908Z"
    },
    "hidden": true
   },
   "outputs": [],
   "source": [
    "joblib.dump(study_all, \"grid_search/study_srgan_small_all.pkl\")"
   ]
  },
  {
   "cell_type": "code",
   "execution_count": null,
   "id": "ff75a443",
   "metadata": {
    "ExecuteTime": {
     "end_time": "2022-07-18T08:41:04.715116Z",
     "start_time": "2022-07-18T08:41:04.696470Z"
    },
    "hidden": true,
    "scrolled": true
   },
   "outputs": [],
   "source": [
    "study_df = study_all.trials_dataframe()\n",
    "study_df['datetime_start'] = study_df['datetime_start'].apply(lambda x: x.replace(microsecond=0))"
   ]
  },
  {
   "cell_type": "code",
   "execution_count": null,
   "id": "f4346494",
   "metadata": {
    "ExecuteTime": {
     "end_time": "2022-07-18T08:41:07.302056Z",
     "start_time": "2022-07-18T08:41:07.294844Z"
    },
    "hidden": true
   },
   "outputs": [],
   "source": [
    "weights = ['gan_generator_gridsearch_2022-06-13 18:34:37.7907823.h5',\n",
    "           'gan_generator_gridsearch_2022-06-14 05:45:45.6737759.h5',\n",
    "           'gan_generator_gridsearch_2022-06-14 09:31:32.62665711.h5',\n",
    "           'gan_generator_gridsearch_2022-06-14 17:02:03.99848815.h5',\n",
    "           'gan_generator_gridsearch_2022-06-15 01:02:04.7871422.h5',\n",
    "           'gan_generator_gridsearch_2022-06-15 06:12:18.9093075.h5',\n",
    "           'gan_generator_gridsearch_2022-06-15 08:08:35.7981475.h5',\n",
    "           'gan_generator_gridsearch_2022-06-15 14:49:25.26411210.h5',\n",
    "           'gan_generator_gridsearch_2022-06-15 15:20:24.9029429.h5',\n",
    "           'gan_generator_gridsearch_2022-06-16 02:07:35.82383615.h5',\n",
    "           'gan_generator_gridsearch_2022-06-16 03:55:37.55589616.h5',\n",
    "           'gan_generator_gridsearch_2022-06-16 14:43:38.68904022.h5',\n",
    "           'gan_generator_gridsearch_2022-07-05 15:19:25.6379852.h5',\n",
    "           'gan_generator_gridsearch_2022-07-05 17:02:22.7251743.h5',\n",
    "           'gan_generator_gridsearch_2022-07-06 18:07:53.9710519.h5']\n",
    "    \n",
    "date = [pd.to_datetime(x.split('_')[-1][:-3]).replace(microsecond=0, nanosecond=0) for x in weights]\n",
    "date"
   ]
  },
  {
   "cell_type": "code",
   "execution_count": null,
   "id": "d1ab62b4",
   "metadata": {
    "ExecuteTime": {
     "end_time": "2022-07-18T08:41:08.271817Z",
     "start_time": "2022-07-18T08:41:08.233766Z"
    },
    "hidden": true,
    "scrolled": true
   },
   "outputs": [],
   "source": [
    "study_df.loc[study_df['datetime_start'].isin(date)]"
   ]
  },
  {
   "cell_type": "code",
   "execution_count": null,
   "id": "46bf9134",
   "metadata": {
    "ExecuteTime": {
     "end_time": "2022-07-07T09:16:17.051311Z",
     "start_time": "2022-07-07T09:16:17.046137Z"
    },
    "hidden": true,
    "scrolled": false
   },
   "outputs": [],
   "source": [
    "nums = np.array(study_df.loc[study_df['datetime_start'].isin(date)].number)\n",
    "nums"
   ]
  },
  {
   "cell_type": "code",
   "execution_count": null,
   "id": "415ec0b2",
   "metadata": {
    "ExecuteTime": {
     "end_time": "2022-07-07T09:16:18.154471Z",
     "start_time": "2022-07-07T09:16:17.840912Z"
    },
    "hidden": true
   },
   "outputs": [],
   "source": [
    "study_best = optuna.create_study()\n",
    "\n",
    "for i in nums:\n",
    "    study_best.add_trial(study_all.get_trials()[i])"
   ]
  },
  {
   "cell_type": "code",
   "execution_count": null,
   "id": "64cc9740",
   "metadata": {
    "ExecuteTime": {
     "end_time": "2022-07-07T09:16:19.076950Z",
     "start_time": "2022-07-07T09:16:19.041193Z"
    },
    "hidden": true,
    "scrolled": true
   },
   "outputs": [],
   "source": [
    "study_best.trials_dataframe()"
   ]
  },
  {
   "cell_type": "code",
   "execution_count": null,
   "id": "33ae8231",
   "metadata": {
    "ExecuteTime": {
     "end_time": "2022-07-07T09:18:10.464591Z",
     "start_time": "2022-07-07T09:18:10.458742Z"
    },
    "hidden": true
   },
   "outputs": [],
   "source": [
    "study_best.trials_dataframe()['system_attrs_search_space'].values"
   ]
  },
  {
   "cell_type": "code",
   "execution_count": null,
   "id": "c332662a",
   "metadata": {
    "ExecuteTime": {
     "end_time": "2022-07-07T09:16:25.865208Z",
     "start_time": "2022-07-07T09:16:25.848641Z"
    },
    "hidden": true
   },
   "outputs": [],
   "source": [
    "joblib.dump(study_best, \"grid_search/study_srgan_small_best.pkl\")"
   ]
  },
  {
   "cell_type": "code",
   "execution_count": null,
   "id": "532f26ac",
   "metadata": {
    "hidden": true
   },
   "outputs": [],
   "source": []
  }
 ],
 "metadata": {
  "kernelspec": {
   "display_name": "semseg",
   "language": "python",
   "name": "semseg"
  },
  "language_info": {
   "codemirror_mode": {
    "name": "ipython",
    "version": 3
   },
   "file_extension": ".py",
   "mimetype": "text/x-python",
   "name": "python",
   "nbconvert_exporter": "python",
   "pygments_lexer": "ipython3",
   "version": "3.8.10"
  },
  "toc": {
   "base_numbering": 1,
   "nav_menu": {},
   "number_sections": true,
   "sideBar": true,
   "skip_h1_title": false,
   "title_cell": "Table of Contents",
   "title_sidebar": "Contents",
   "toc_cell": false,
   "toc_position": {},
   "toc_section_display": true,
   "toc_window_display": false
  },
  "varInspector": {
   "cols": {
    "lenName": 16,
    "lenType": 16,
    "lenVar": 40
   },
   "kernels_config": {
    "python": {
     "delete_cmd_postfix": "",
     "delete_cmd_prefix": "del ",
     "library": "var_list.py",
     "varRefreshCmd": "print(var_dic_list())"
    },
    "r": {
     "delete_cmd_postfix": ") ",
     "delete_cmd_prefix": "rm(",
     "library": "var_list.r",
     "varRefreshCmd": "cat(var_dic_list()) "
    }
   },
   "types_to_exclude": [
    "module",
    "function",
    "builtin_function_or_method",
    "instance",
    "_Feature"
   ],
   "window_display": false
  }
 },
 "nbformat": 4,
 "nbformat_minor": 5
}
